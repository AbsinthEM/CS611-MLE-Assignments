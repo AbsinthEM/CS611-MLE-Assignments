{
 "cells": [
  {
   "cell_type": "code",
   "execution_count": 27,
   "id": "b424e1be",
   "metadata": {},
   "outputs": [],
   "source": [
    "import os\n",
    "import glob\n",
    "import pandas as pd\n",
    "import pickle\n",
    "import matplotlib.pyplot as plt\n",
    "import numpy as np\n",
    "import random\n",
    "from datetime import datetime, timedelta\n",
    "from dateutil.relativedelta import relativedelta\n",
    "import pprint\n",
    "import pyspark\n",
    "import pyspark.sql.functions as F\n",
    "\n",
    "from pyspark.sql.functions import col\n",
    "from pyspark.sql.types import StringType, IntegerType, FloatType, DateType\n"
   ]
  },
  {
   "cell_type": "code",
   "execution_count": 28,
   "id": "7f5c9d56",
   "metadata": {},
   "outputs": [
    {
     "name": "stdout",
     "output_type": "stream",
     "text": [
      "The autoreload extension is already loaded. To reload it, use:\n",
      "  %reload_ext autoreload\n"
     ]
    }
   ],
   "source": [
    "# Ensure we're working from project root\n",
    "current_dir = os.getcwd()\n",
    "if current_dir.endswith('notebooks'):\n",
    "    os.chdir('..')\n",
    "    print(\"Adjusted working directory to project root\")\n",
    "\n",
    "import utils.model_inference as mi\n",
    "\n",
    "%load_ext autoreload\n",
    "%autoreload 2"
   ]
  },
  {
   "cell_type": "markdown",
   "id": "4af45ced",
   "metadata": {},
   "source": [
    "## Setup PySpark Session"
   ]
  },
  {
   "cell_type": "code",
   "execution_count": 29,
   "id": "0e5379dc",
   "metadata": {},
   "outputs": [
    {
     "name": "stdout",
     "output_type": "stream",
     "text": [
      "Spark session initialized for model inference\n"
     ]
    }
   ],
   "source": [
    "# Initialize SparkSession for data processing\n",
    "spark = pyspark.sql.SparkSession.builder \\\n",
    "    .appName(\"Model_Inference_Pipeline\") \\\n",
    "    .master(\"local[*]\") \\\n",
    "    .getOrCreate()\n",
    "\n",
    "spark.sparkContext.setLogLevel(\"ERROR\")\n",
    "\n",
    "print(\"Spark session initialized for model inference\")\n"
   ]
  },
  {
   "cell_type": "markdown",
   "id": "c23de053",
   "metadata": {},
   "source": [
    "## Configuration Setup"
   ]
  },
  {
   "cell_type": "code",
   "execution_count": 30,
   "id": "d3617591",
   "metadata": {},
   "outputs": [
    {
     "name": "stdout",
     "output_type": "stream",
     "text": [
      "Inference Configuration:\n",
      "{'feature_store_path': 'datamart/gold/feature_store/',\n",
      " 'model_artifact_filepath': 'models/credit_model_xgboost_2024_09_01.pkl',\n",
      " 'model_bank_directory': 'models/',\n",
      " 'model_version': 'credit_model_xgboost_2024_09_01',\n",
      " 'prediction_columns': ['Customer_ID',\n",
      "                        'snapshot_date',\n",
      "                        'model_version',\n",
      "                        'model_prediction_proba',\n",
      "                        'model_prediction_binary',\n",
      "                        'prediction_timestamp'],\n",
      " 'predictions_output_path': 'datamart/gold/model_predictions/',\n",
      " 'predictions_table_name': 'credit_model_xgboost_2024_09_01_predictions',\n",
      " 'snapshot_date': datetime.datetime(2024, 1, 1, 0, 0),\n",
      " 'snapshot_date_str': '2024-01-01'}\n"
     ]
    }
   ],
   "source": [
    "# Set inference configuration parameters\n",
    "snapshot_date_str = \"2024-01-01\"  # Date for inference data\n",
    "model_version = \"credit_model_xgboost_2024_09_01\"  # Model to use for inference\n",
    "\n",
    "# Build comprehensive configuration\n",
    "config = mi.build_inference_config(\n",
    "    snapshot_date_str=snapshot_date_str,\n",
    "    model_version=model_version,\n",
    "    model_bank_directory=\"models/\",\n",
    "    feature_store_path=\"datamart/gold/feature_store/\",\n",
    "    predictions_output_path=\"datamart/gold/model_predictions/\"\n",
    ")\n",
    "\n",
    "print(\"Inference Configuration:\")\n",
    "pprint.pprint(config)\n"
   ]
  },
  {
   "cell_type": "markdown",
   "id": "126e3570",
   "metadata": {},
   "source": [
    "## Load Model Artifact from Model Bank"
   ]
  },
  {
   "cell_type": "code",
   "execution_count": 31,
   "id": "343254a6",
   "metadata": {},
   "outputs": [
    {
     "name": "stdout",
     "output_type": "stream",
     "text": [
      "\n",
      "============================================================\n",
      "LOADING MODEL ARTIFACT\n",
      "============================================================\n",
      "Model artifact loaded successfully from: models/credit_model_xgboost_2024_09_01.pkl\n",
      "Model loaded successfully: credit_model_xgboost_2024_09_01\n",
      "Model type: xgboost\n",
      "Training date: 2024-09-01\n",
      "Feature count: 135\n"
     ]
    }
   ],
   "source": [
    "# Load the trained model and its preprocessing components\n",
    "print(f\"\\n{'='*60}\")\n",
    "print(\"LOADING MODEL ARTIFACT\")\n",
    "print(f\"{'='*60}\")\n",
    "\n",
    "model_artifact = mi.load_model_artifact(config)\n",
    "\n",
    "if model_artifact:\n",
    "    print(f\"Model loaded successfully: {config['model_version']}\")\n",
    "    print(f\"Model type: {model_artifact['model_type']}\")\n",
    "    print(f\"Training date: {model_artifact.get('data_dates', {}).get('model_train_date_str', 'Unknown')}\")\n",
    "    print(f\"Feature count: {model_artifact['data_stats']['feature_count']}\")\n",
    "else:\n",
    "    raise ValueError(f\"Failed to load model artifact: {config['model_artifact_filepath']}\")\n"
   ]
  },
  {
   "cell_type": "markdown",
   "id": "687098e5",
   "metadata": {},
   "source": [
    "## Load Feature Store Data"
   ]
  },
  {
   "cell_type": "code",
   "execution_count": 32,
   "id": "447358fa",
   "metadata": {},
   "outputs": [
    {
     "name": "stdout",
     "output_type": "stream",
     "text": [
      "\n",
      "============================================================\n",
      "LOADING FEATURE DATA FOR 2024-01-01\n",
      "============================================================\n",
      "Loading features from: datamart/gold/feature_store/\n",
      "Target snapshot date: 2024-01-01 00:00:00\n"
     ]
    },
    {
     "name": "stderr",
     "output_type": "stream",
     "text": [
      "                                                                                \r"
     ]
    },
    {
     "name": "stdout",
     "output_type": "stream",
     "text": [
      "Feature data loaded: 8974 records\n",
      "Feature data loaded successfully\n",
      "Records for inference: 8974\n",
      "Available features: 135\n",
      "Sample customer IDs: ['CUS_0x1026', 'CUS_0x104a', 'CUS_0x1056']\n"
     ]
    }
   ],
   "source": [
    "# Extract features for the specified snapshot date\n",
    "print(f\"\\n{'='*60}\")\n",
    "print(f\"LOADING FEATURE DATA FOR {snapshot_date_str}\")\n",
    "print(f\"{'='*60}\")\n",
    "\n",
    "feature_data = mi.load_inference_features(config, spark)\n",
    "\n",
    "if feature_data is not None and len(feature_data) > 0:\n",
    "    print(f\"Feature data loaded successfully\")\n",
    "    print(f\"Records for inference: {len(feature_data)}\")\n",
    "    print(f\"Available features: {len([col for col in feature_data.columns if col not in ['Customer_ID', 'feature_snapshot_date']])}\")\n",
    "    print(f\"Sample customer IDs: {feature_data['Customer_ID'].head(3).tolist()}\")\n",
    "else:\n",
    "    raise ValueError(f\"No feature data found for snapshot date: {snapshot_date_str}\")\n"
   ]
  },
  {
   "cell_type": "markdown",
   "id": "4dab90d1",
   "metadata": {},
   "source": [
    "## Data Preprocessing for Inference"
   ]
  },
  {
   "cell_type": "code",
   "execution_count": 33,
   "id": "926362ad",
   "metadata": {},
   "outputs": [
    {
     "name": "stdout",
     "output_type": "stream",
     "text": [
      "\n",
      "============================================================\n",
      "PREPROCESSING INFERENCE DATA\n",
      "============================================================\n",
      "Preparing features for inference...\n",
      "Using preprocessor: XGBoostPreprocessor\n",
      "Expected features: 135\n",
      "Raw features shape: (8974, 135)\n",
      "Processed features shape: (8974, 135)\n",
      "Preprocessing completed successfully\n",
      "Processed feature matrix shape: (8974, 135)\n",
      "Customer records: 8974\n"
     ]
    }
   ],
   "source": [
    "# Apply the same preprocessing used during model training\n",
    "print(f\"\\n{'='*60}\")\n",
    "print(\"PREPROCESSING INFERENCE DATA\")\n",
    "print(f\"{'='*60}\")\n",
    "\n",
    "# Prepare features for modeling\n",
    "X_inference, customer_info = mi.prepare_inference_features(\n",
    "    feature_data=feature_data,\n",
    "    model_artifact=model_artifact,\n",
    "    config=config\n",
    ")\n",
    "\n",
    "if X_inference is not None:\n",
    "    print(f\"Processed feature matrix shape: {X_inference.shape}\")\n",
    "    print(f\"Customer records: {len(customer_info)}\")\n",
    "else:\n",
    "    raise ValueError(\"Feature preprocessing failed\")\n"
   ]
  },
  {
   "cell_type": "markdown",
   "id": "b20378e8",
   "metadata": {},
   "source": [
    "## Model Inference and Prediction"
   ]
  },
  {
   "cell_type": "code",
   "execution_count": 34,
   "id": "8e1aebe4",
   "metadata": {},
   "outputs": [
    {
     "name": "stdout",
     "output_type": "stream",
     "text": [
      "\n",
      "============================================================\n",
      "GENERATING MODEL PREDICTIONS\n",
      "============================================================\n",
      "Generating model predictions...\n",
      "Using model type: xgboost\n",
      "Inference samples: 8974\n",
      "Predictions generated successfully\n",
      "Prediction range: [0.0024, 0.9943]\n",
      "Binary predictions distribution: [6690 2284]\n",
      "Predictions generated successfully\n",
      "Total predictions: 8974\n",
      "Prediction statistics:\n",
      "  Mean probability: 0.3120\n",
      "  Min probability: 0.0024\n",
      "  Max probability: 0.9943\n",
      "  Std probability: 0.2931\n",
      "\n",
      "Sample predictions:\n",
      "  Customer_ID  model_prediction_proba  model_prediction_binary\n",
      "0  CUS_0x1026                0.096556                        0\n",
      "1  CUS_0x104a                0.037388                        0\n",
      "2  CUS_0x1056                0.987560                        1\n",
      "3  CUS_0x105c                0.453053                        0\n",
      "4  CUS_0x1075                0.358939                        0\n"
     ]
    }
   ],
   "source": [
    "# Generate predictions using the loaded model\n",
    "print(f\"\\n{'='*60}\")\n",
    "print(\"GENERATING MODEL PREDICTIONS\")\n",
    "print(f\"{'='*60}\")\n",
    "\n",
    "predictions_df = mi.generate_model_predictions(\n",
    "    X_inference=X_inference,\n",
    "    customer_info=customer_info,\n",
    "    model_artifact=model_artifact,\n",
    "    config=config\n",
    ")\n",
    "\n",
    "if predictions_df is not None and len(predictions_df) > 0:\n",
    "    print(f\"Predictions generated successfully\")\n",
    "    print(f\"Total predictions: {len(predictions_df)}\")\n",
    "    print(f\"Prediction statistics:\")\n",
    "    print(f\"  Mean probability: {predictions_df['model_prediction_proba'].mean():.4f}\")\n",
    "    print(f\"  Min probability: {predictions_df['model_prediction_proba'].min():.4f}\")\n",
    "    print(f\"  Max probability: {predictions_df['model_prediction_proba'].max():.4f}\")\n",
    "    print(f\"  Std probability: {predictions_df['model_prediction_proba'].std():.4f}\")\n",
    "    \n",
    "    # Show sample predictions\n",
    "    print(f\"\\nSample predictions:\")\n",
    "    print(predictions_df[['Customer_ID', 'model_prediction_proba', 'model_prediction_binary']].head())\n",
    "else:\n",
    "    raise ValueError(\"Prediction generation failed\")"
   ]
  },
  {
   "cell_type": "markdown",
   "id": "24e2759a",
   "metadata": {},
   "source": [
    "## Save Predictions to Datamart Gold Layer"
   ]
  },
  {
   "cell_type": "code",
   "execution_count": 35,
   "id": "7a3793a6",
   "metadata": {},
   "outputs": [
    {
     "name": "stdout",
     "output_type": "stream",
     "text": [
      "\n",
      "============================================================\n",
      "SAVING PREDICTIONS TO DATAMART\n",
      "============================================================\n"
     ]
    },
    {
     "name": "stderr",
     "output_type": "stream",
     "text": [
      "[Stage 2:>                                                          (0 + 8) / 8]\r"
     ]
    },
    {
     "name": "stdout",
     "output_type": "stream",
     "text": [
      "Predictions saved to: datamart/gold/model_predictions/credit_model_xgboost_2024_09_01/credit_model_xgboost_2024_09_01_predictions_2024_01_01.parquet\n",
      "Records saved: 8974\n",
      "Predictions saved successfully to: datamart/gold/model_predictions/credit_model_xgboost_2024_09_01/credit_model_xgboost_2024_09_01_predictions_2024_01_01.parquet\n",
      "Records saved: 8974\n"
     ]
    },
    {
     "name": "stderr",
     "output_type": "stream",
     "text": [
      "                                                                                \r"
     ]
    }
   ],
   "source": [
    "# Store predictions in the gold layer following medallion architecture\n",
    "print(f\"\\n{'='*60}\")\n",
    "print(\"SAVING PREDICTIONS TO DATAMART\")\n",
    "print(f\"{'='*60}\")\n",
    "\n",
    "output_path = mi.save_predictions_to_datamart(\n",
    "    predictions_df=predictions_df,\n",
    "    config=config,\n",
    "    spark=spark\n",
    ")\n",
    "\n",
    "if output_path:\n",
    "    print(f\"Predictions saved successfully to: {output_path}\")\n",
    "    print(f\"Records saved: {len(predictions_df)}\")\n",
    "else:\n",
    "    raise ValueError(\"Failed to save predictions to datamart\")"
   ]
  },
  {
   "cell_type": "markdown",
   "id": "1fa82b18",
   "metadata": {},
   "source": [
    "## Validate Saved Predictions"
   ]
  },
  {
   "cell_type": "code",
   "execution_count": 36,
   "id": "2f6559e1",
   "metadata": {},
   "outputs": [
    {
     "name": "stdout",
     "output_type": "stream",
     "text": [
      "\n",
      "============================================================\n",
      "VALIDATING SAVED PREDICTIONS\n",
      "============================================================\n",
      "Validation successful\n",
      "Records in datamart: 8974\n",
      "Files created: 18\n"
     ]
    }
   ],
   "source": [
    "# validation of saved predictions\n",
    "print(f\"\\n{'='*60}\")\n",
    "print(\"VALIDATING SAVED PREDICTIONS\")\n",
    "print(f\"{'='*60}\")\n",
    "\n",
    "validation_results = mi.validate_saved_predictions(config, spark)\n",
    "\n",
    "if validation_results['success']:\n",
    "    print(f\"Validation successful\")\n",
    "    print(f\"Records in datamart: {validation_results['record_count']}\")\n",
    "    print(f\"Files created: {validation_results['file_count']}\")\n",
    "else:\n",
    "    print(f\"Validation failed: {validation_results.get('error', 'Unknown error')}\")\n"
   ]
  },
  {
   "cell_type": "markdown",
   "id": "7076f72d",
   "metadata": {},
   "source": [
    "# Backfill"
   ]
  },
  {
   "cell_type": "code",
   "execution_count": 37,
   "id": "63a854f7",
   "metadata": {},
   "outputs": [
    {
     "name": "stdout",
     "output_type": "stream",
     "text": [
      "\n",
      "================================================================================\n",
      "BATCH PROCESSING SETUP\n",
      "================================================================================\n",
      "Batch processing configuration:\n",
      "Date range: 2023-01-01 to 2024-12-01\n",
      "Models to process: 3\n",
      "  - credit_model_logistic_regression_2024_09_01\n",
      "  - credit_model_random_forest_2024_09_01\n",
      "  - credit_model_xgboost_2024_09_01\n"
     ]
    }
   ],
   "source": [
    "print(f\"\\n{'='*80}\")\n",
    "print(\"BATCH PROCESSING SETUP\")\n",
    "print(f\"{'='*80}\")\n",
    "\n",
    "# Configuration for batch processing\n",
    "batch_start_date = \"2023-01-01\"\n",
    "batch_end_date = \"2024-12-01\"\n",
    "\n",
    "# Process all three trained models for comprehensive inference\n",
    "batch_model_versions = [\n",
    "    \"credit_model_logistic_regression_2024_09_01\",\n",
    "    \"credit_model_random_forest_2024_09_01\", \n",
    "    \"credit_model_xgboost_2024_09_01\"\n",
    "]\n",
    "\n",
    "print(f\"Batch processing configuration:\")\n",
    "print(f\"Date range: {batch_start_date} to {batch_end_date}\")\n",
    "print(f\"Models to process: {len(batch_model_versions)}\")\n",
    "for model in batch_model_versions:\n",
    "    print(f\"  - {model}\")"
   ]
  },
  {
   "cell_type": "code",
   "execution_count": 38,
   "id": "d5a806c8",
   "metadata": {},
   "outputs": [
    {
     "name": "stdout",
     "output_type": "stream",
     "text": [
      "Batch processing dates: ['2023-01-01', '2023-02-01', '2023-03-01', '2023-04-01', '2023-05-01', '2023-06-01', '2023-07-01', '2023-08-01', '2023-09-01', '2023-10-01', '2023-11-01', '2023-12-01', '2024-01-01', '2024-02-01', '2024-03-01', '2024-04-01', '2024-05-01', '2024-06-01', '2024-07-01', '2024-08-01', '2024-09-01', '2024-10-01', '2024-11-01', '2024-12-01']\n"
     ]
    }
   ],
   "source": [
    "# Generate list of dates for batch processing\n",
    "def generate_first_of_month_dates(start_date_str, end_date_str):\n",
    "    \"\"\"\n",
    "    Generate list of first-of-month dates between start and end dates\n",
    "    \n",
    "    Args:\n",
    "        start_date_str: Start date in YYYY-MM-DD format\n",
    "        end_date_str: End date in YYYY-MM-DD format\n",
    "    \n",
    "    Returns:\n",
    "        List of date strings in YYYY-MM-DD format\n",
    "    \"\"\"\n",
    "    start_date = datetime.strptime(start_date_str, \"%Y-%m-%d\")\n",
    "    end_date = datetime.strptime(end_date_str, \"%Y-%m-%d\")\n",
    "    \n",
    "    first_of_month_dates = []\n",
    "    current_date = datetime(start_date.year, start_date.month, 1)\n",
    "\n",
    "    while current_date <= end_date:\n",
    "        first_of_month_dates.append(current_date.strftime(\"%Y-%m-%d\"))\n",
    "        \n",
    "        # Move to first of next month\n",
    "        if current_date.month == 12:\n",
    "            current_date = datetime(current_date.year + 1, 1, 1)\n",
    "        else:\n",
    "            current_date = datetime(current_date.year, current_date.month + 1, 1)\n",
    "\n",
    "    return first_of_month_dates\n",
    "\n",
    "batch_dates = generate_first_of_month_dates(batch_start_date, batch_end_date)\n",
    "print(f\"Batch processing dates: {batch_dates}\")"
   ]
  },
  {
   "cell_type": "code",
   "execution_count": 39,
   "id": "7791ab68",
   "metadata": {},
   "outputs": [
    {
     "name": "stdout",
     "output_type": "stream",
     "text": [
      "\n",
      "============================================================\n",
      "EXECUTING BATCH INFERENCE FOR ALL MODELS\n",
      "============================================================\n",
      "\n",
      "Processing model: credit_model_logistic_regression_2024_09_01\n",
      "========================================\n",
      "Starting batch inference for 24 dates\n",
      "Model: credit_model_logistic_regression_2024_09_01\n",
      "\n",
      "Processing date 1/24: 2023-01-01\n",
      "Running inference for 2023-01-01 using credit_model_logistic_regression_2024_09_01\n",
      "Model artifact loaded successfully from: models/credit_model_logistic_regression_2024_09_01.pkl\n",
      "Loading features from: datamart/gold/feature_store/\n",
      "Target snapshot date: 2023-01-01 00:00:00\n"
     ]
    },
    {
     "name": "stderr",
     "output_type": "stream",
     "text": [
      "                                                                                \r"
     ]
    },
    {
     "name": "stdout",
     "output_type": "stream",
     "text": [
      "No feature data found for snapshot date: 2023-01-01 00:00:00\n",
      "✗ Failed to process 2023-01-01: Failed to load feature data\n",
      "\n",
      "Processing date 2/24: 2023-02-01\n",
      "Running inference for 2023-02-01 using credit_model_logistic_regression_2024_09_01\n",
      "Model artifact loaded successfully from: models/credit_model_logistic_regression_2024_09_01.pkl\n",
      "Loading features from: datamart/gold/feature_store/\n",
      "Target snapshot date: 2023-02-01 00:00:00\n"
     ]
    },
    {
     "name": "stderr",
     "output_type": "stream",
     "text": [
      "                                                                                \r"
     ]
    },
    {
     "name": "stdout",
     "output_type": "stream",
     "text": [
      "No feature data found for snapshot date: 2023-02-01 00:00:00\n",
      "✗ Failed to process 2023-02-01: Failed to load feature data\n",
      "\n",
      "Processing date 3/24: 2023-03-01\n",
      "Running inference for 2023-03-01 using credit_model_logistic_regression_2024_09_01\n",
      "Model artifact loaded successfully from: models/credit_model_logistic_regression_2024_09_01.pkl\n",
      "Loading features from: datamart/gold/feature_store/\n",
      "Target snapshot date: 2023-03-01 00:00:00\n"
     ]
    },
    {
     "name": "stderr",
     "output_type": "stream",
     "text": [
      "                                                                                \r"
     ]
    },
    {
     "name": "stdout",
     "output_type": "stream",
     "text": [
      "No feature data found for snapshot date: 2023-03-01 00:00:00\n",
      "✗ Failed to process 2023-03-01: Failed to load feature data\n",
      "\n",
      "Processing date 4/24: 2023-04-01\n",
      "Running inference for 2023-04-01 using credit_model_logistic_regression_2024_09_01\n",
      "Model artifact loaded successfully from: models/credit_model_logistic_regression_2024_09_01.pkl\n",
      "Loading features from: datamart/gold/feature_store/\n",
      "Target snapshot date: 2023-04-01 00:00:00\n"
     ]
    },
    {
     "name": "stderr",
     "output_type": "stream",
     "text": [
      "                                                                                \r"
     ]
    },
    {
     "name": "stdout",
     "output_type": "stream",
     "text": [
      "No feature data found for snapshot date: 2023-04-01 00:00:00\n",
      "✗ Failed to process 2023-04-01: Failed to load feature data\n",
      "\n",
      "Processing date 5/24: 2023-05-01\n",
      "Running inference for 2023-05-01 using credit_model_logistic_regression_2024_09_01\n",
      "Model artifact loaded successfully from: models/credit_model_logistic_regression_2024_09_01.pkl\n",
      "Loading features from: datamart/gold/feature_store/\n",
      "Target snapshot date: 2023-05-01 00:00:00\n"
     ]
    },
    {
     "name": "stderr",
     "output_type": "stream",
     "text": [
      "                                                                                \r"
     ]
    },
    {
     "name": "stdout",
     "output_type": "stream",
     "text": [
      "No feature data found for snapshot date: 2023-05-01 00:00:00\n",
      "✗ Failed to process 2023-05-01: Failed to load feature data\n",
      "\n",
      "Processing date 6/24: 2023-06-01\n",
      "Running inference for 2023-06-01 using credit_model_logistic_regression_2024_09_01\n",
      "Model artifact loaded successfully from: models/credit_model_logistic_regression_2024_09_01.pkl\n",
      "Loading features from: datamart/gold/feature_store/\n",
      "Target snapshot date: 2023-06-01 00:00:00\n"
     ]
    },
    {
     "name": "stderr",
     "output_type": "stream",
     "text": [
      "                                                                                \r"
     ]
    },
    {
     "name": "stdout",
     "output_type": "stream",
     "text": [
      "No feature data found for snapshot date: 2023-06-01 00:00:00\n",
      "✗ Failed to process 2023-06-01: Failed to load feature data\n",
      "\n",
      "Processing date 7/24: 2023-07-01\n",
      "Running inference for 2023-07-01 using credit_model_logistic_regression_2024_09_01\n",
      "Model artifact loaded successfully from: models/credit_model_logistic_regression_2024_09_01.pkl\n",
      "Loading features from: datamart/gold/feature_store/\n",
      "Target snapshot date: 2023-07-01 00:00:00\n",
      "Feature data loaded: 8974 records\n",
      "Preparing features for inference...\n",
      "Using preprocessor: LogisticRegressionPreprocessor\n",
      "Expected features: 36\n",
      "Raw features shape: (8974, 135)\n",
      "Processed features shape: (8974, 36)\n",
      "Preprocessing completed successfully\n",
      "Generating model predictions...\n",
      "Using model type: logistic_regression\n",
      "Inference samples: 8974\n",
      "Predictions generated successfully\n",
      "Prediction range: [0.0175, 0.9931]\n",
      "Binary predictions distribution: [4612 4362]\n",
      "Created output directory: datamart/gold/model_predictions/credit_model_logistic_regression_2024_09_01\n"
     ]
    },
    {
     "name": "stderr",
     "output_type": "stream",
     "text": [
      "/home/airflow/.local/lib/python3.11/site-packages/sklearn/preprocessing/_encoders.py:246: UserWarning: Found unknown categories in columns [0, 1, 2, 3] during transform. These unknown categories will be encoded as all zeros\n",
      "  warnings.warn(\n",
      "                                                                                \r"
     ]
    },
    {
     "name": "stdout",
     "output_type": "stream",
     "text": [
      "Predictions saved to: datamart/gold/model_predictions/credit_model_logistic_regression_2024_09_01/credit_model_logistic_regression_2024_09_01_predictions_2023_07_01.parquet\n",
      "Records saved: 8974\n",
      "✓ Successfully processed 2023-07-01\n",
      "\n",
      "Processing date 8/24: 2023-08-01\n",
      "Running inference for 2023-08-01 using credit_model_logistic_regression_2024_09_01\n",
      "Model artifact loaded successfully from: models/credit_model_logistic_regression_2024_09_01.pkl\n",
      "Loading features from: datamart/gold/feature_store/\n",
      "Target snapshot date: 2023-08-01 00:00:00\n"
     ]
    },
    {
     "name": "stderr",
     "output_type": "stream",
     "text": [
      "                                                                                \r"
     ]
    },
    {
     "name": "stdout",
     "output_type": "stream",
     "text": [
      "Feature data loaded: 8974 records\n",
      "Preparing features for inference...\n",
      "Using preprocessor: LogisticRegressionPreprocessor\n",
      "Expected features: 36\n",
      "Raw features shape: (8974, 135)\n",
      "Processed features shape: (8974, 36)\n",
      "Preprocessing completed successfully\n",
      "Generating model predictions...\n",
      "Using model type: logistic_regression\n",
      "Inference samples: 8974\n",
      "Predictions generated successfully\n",
      "Prediction range: [0.0112, 0.9904]\n",
      "Binary predictions distribution: [4638 4336]\n"
     ]
    },
    {
     "name": "stderr",
     "output_type": "stream",
     "text": [
      "/home/airflow/.local/lib/python3.11/site-packages/sklearn/preprocessing/_encoders.py:246: UserWarning: Found unknown categories in columns [0, 1, 2, 3] during transform. These unknown categories will be encoded as all zeros\n",
      "  warnings.warn(\n"
     ]
    },
    {
     "name": "stdout",
     "output_type": "stream",
     "text": [
      "Predictions saved to: datamart/gold/model_predictions/credit_model_logistic_regression_2024_09_01/credit_model_logistic_regression_2024_09_01_predictions_2023_08_01.parquet\n",
      "Records saved: 8974\n",
      "✓ Successfully processed 2023-08-01\n",
      "\n",
      "Processing date 9/24: 2023-09-01\n",
      "Running inference for 2023-09-01 using credit_model_logistic_regression_2024_09_01\n",
      "Model artifact loaded successfully from: models/credit_model_logistic_regression_2024_09_01.pkl\n",
      "Loading features from: datamart/gold/feature_store/\n",
      "Target snapshot date: 2023-09-01 00:00:00\n"
     ]
    },
    {
     "name": "stderr",
     "output_type": "stream",
     "text": [
      "                                                                                \r"
     ]
    },
    {
     "name": "stdout",
     "output_type": "stream",
     "text": [
      "Feature data loaded: 8974 records\n",
      "Preparing features for inference...\n",
      "Using preprocessor: LogisticRegressionPreprocessor\n",
      "Expected features: 36\n",
      "Raw features shape: (8974, 135)\n",
      "Processed features shape: (8974, 36)\n",
      "Preprocessing completed successfully\n",
      "Generating model predictions...\n",
      "Using model type: logistic_regression\n",
      "Inference samples: 8974\n",
      "Predictions generated successfully\n",
      "Prediction range: [0.0113, 0.9942]\n",
      "Binary predictions distribution: [4725 4249]\n"
     ]
    },
    {
     "name": "stderr",
     "output_type": "stream",
     "text": [
      "/home/airflow/.local/lib/python3.11/site-packages/sklearn/preprocessing/_encoders.py:246: UserWarning: Found unknown categories in columns [0, 1, 2, 3] during transform. These unknown categories will be encoded as all zeros\n",
      "  warnings.warn(\n"
     ]
    },
    {
     "name": "stdout",
     "output_type": "stream",
     "text": [
      "Predictions saved to: datamart/gold/model_predictions/credit_model_logistic_regression_2024_09_01/credit_model_logistic_regression_2024_09_01_predictions_2023_09_01.parquet\n",
      "Records saved: 8974\n",
      "✓ Successfully processed 2023-09-01\n",
      "\n",
      "Processing date 10/24: 2023-10-01\n",
      "Running inference for 2023-10-01 using credit_model_logistic_regression_2024_09_01\n",
      "Model artifact loaded successfully from: models/credit_model_logistic_regression_2024_09_01.pkl\n",
      "Loading features from: datamart/gold/feature_store/\n",
      "Target snapshot date: 2023-10-01 00:00:00\n"
     ]
    },
    {
     "name": "stderr",
     "output_type": "stream",
     "text": [
      "                                                                                \r"
     ]
    },
    {
     "name": "stdout",
     "output_type": "stream",
     "text": [
      "Feature data loaded: 8974 records\n",
      "Preparing features for inference...\n",
      "Using preprocessor: LogisticRegressionPreprocessor\n",
      "Expected features: 36\n",
      "Raw features shape: (8974, 135)\n",
      "Processed features shape: (8974, 36)\n",
      "Preprocessing completed successfully\n",
      "Generating model predictions...\n",
      "Using model type: logistic_regression\n",
      "Inference samples: 8974\n",
      "Predictions generated successfully\n",
      "Prediction range: [0.0124, 0.9972]\n",
      "Binary predictions distribution: [4812 4162]\n"
     ]
    },
    {
     "name": "stderr",
     "output_type": "stream",
     "text": [
      "/home/airflow/.local/lib/python3.11/site-packages/sklearn/preprocessing/_encoders.py:246: UserWarning: Found unknown categories in columns [0, 1, 2, 3] during transform. These unknown categories will be encoded as all zeros\n",
      "  warnings.warn(\n"
     ]
    },
    {
     "name": "stdout",
     "output_type": "stream",
     "text": [
      "Predictions saved to: datamart/gold/model_predictions/credit_model_logistic_regression_2024_09_01/credit_model_logistic_regression_2024_09_01_predictions_2023_10_01.parquet\n",
      "Records saved: 8974\n",
      "✓ Successfully processed 2023-10-01\n",
      "\n",
      "Processing date 11/24: 2023-11-01\n",
      "Running inference for 2023-11-01 using credit_model_logistic_regression_2024_09_01\n",
      "Model artifact loaded successfully from: models/credit_model_logistic_regression_2024_09_01.pkl\n",
      "Loading features from: datamart/gold/feature_store/\n",
      "Target snapshot date: 2023-11-01 00:00:00\n"
     ]
    },
    {
     "name": "stderr",
     "output_type": "stream",
     "text": [
      "                                                                                \r"
     ]
    },
    {
     "name": "stdout",
     "output_type": "stream",
     "text": [
      "Feature data loaded: 8974 records\n",
      "Preparing features for inference...\n",
      "Using preprocessor: LogisticRegressionPreprocessor\n",
      "Expected features: 36\n",
      "Raw features shape: (8974, 135)\n",
      "Processed features shape: (8974, 36)\n",
      "Preprocessing completed successfully\n",
      "Generating model predictions...\n",
      "Using model type: logistic_regression\n",
      "Inference samples: 8974\n",
      "Predictions generated successfully\n",
      "Prediction range: [0.0130, 0.9967]\n",
      "Binary predictions distribution: [4884 4090]\n"
     ]
    },
    {
     "name": "stderr",
     "output_type": "stream",
     "text": [
      "/home/airflow/.local/lib/python3.11/site-packages/sklearn/preprocessing/_encoders.py:246: UserWarning: Found unknown categories in columns [0, 1, 2, 3] during transform. These unknown categories will be encoded as all zeros\n",
      "  warnings.warn(\n"
     ]
    },
    {
     "name": "stdout",
     "output_type": "stream",
     "text": [
      "Predictions saved to: datamart/gold/model_predictions/credit_model_logistic_regression_2024_09_01/credit_model_logistic_regression_2024_09_01_predictions_2023_11_01.parquet\n",
      "Records saved: 8974\n",
      "✓ Successfully processed 2023-11-01\n",
      "\n",
      "Processing date 12/24: 2023-12-01\n",
      "Running inference for 2023-12-01 using credit_model_logistic_regression_2024_09_01\n",
      "Model artifact loaded successfully from: models/credit_model_logistic_regression_2024_09_01.pkl\n",
      "Loading features from: datamart/gold/feature_store/\n",
      "Target snapshot date: 2023-12-01 00:00:00\n"
     ]
    },
    {
     "name": "stderr",
     "output_type": "stream",
     "text": [
      "                                                                                \r"
     ]
    },
    {
     "name": "stdout",
     "output_type": "stream",
     "text": [
      "Feature data loaded: 8974 records\n",
      "Preparing features for inference...\n",
      "Using preprocessor: LogisticRegressionPreprocessor\n",
      "Expected features: 36\n",
      "Raw features shape: (8974, 135)\n",
      "Processed features shape: (8974, 36)\n",
      "Preprocessing completed successfully\n",
      "Generating model predictions...\n",
      "Using model type: logistic_regression\n",
      "Inference samples: 8974\n",
      "Predictions generated successfully\n",
      "Prediction range: [0.0099, 0.9914]\n",
      "Binary predictions distribution: [5026 3948]\n"
     ]
    },
    {
     "name": "stderr",
     "output_type": "stream",
     "text": [
      "/home/airflow/.local/lib/python3.11/site-packages/sklearn/preprocessing/_encoders.py:246: UserWarning: Found unknown categories in columns [0, 1, 2, 3] during transform. These unknown categories will be encoded as all zeros\n",
      "  warnings.warn(\n"
     ]
    },
    {
     "name": "stdout",
     "output_type": "stream",
     "text": [
      "Predictions saved to: datamart/gold/model_predictions/credit_model_logistic_regression_2024_09_01/credit_model_logistic_regression_2024_09_01_predictions_2023_12_01.parquet\n",
      "Records saved: 8974\n",
      "✓ Successfully processed 2023-12-01\n",
      "\n",
      "Processing date 13/24: 2024-01-01\n",
      "Running inference for 2024-01-01 using credit_model_logistic_regression_2024_09_01\n",
      "Model artifact loaded successfully from: models/credit_model_logistic_regression_2024_09_01.pkl\n",
      "Loading features from: datamart/gold/feature_store/\n",
      "Target snapshot date: 2024-01-01 00:00:00\n"
     ]
    },
    {
     "name": "stderr",
     "output_type": "stream",
     "text": [
      "                                                                                \r"
     ]
    },
    {
     "name": "stdout",
     "output_type": "stream",
     "text": [
      "Feature data loaded: 8974 records\n",
      "Preparing features for inference...\n",
      "Using preprocessor: LogisticRegressionPreprocessor\n",
      "Expected features: 36\n",
      "Raw features shape: (8974, 135)\n",
      "Processed features shape: (8974, 36)\n",
      "Preprocessing completed successfully\n",
      "Generating model predictions...\n",
      "Using model type: logistic_regression\n",
      "Inference samples: 8974\n",
      "Predictions generated successfully\n",
      "Prediction range: [0.0087, 0.9923]\n",
      "Binary predictions distribution: [5072 3902]\n"
     ]
    },
    {
     "name": "stderr",
     "output_type": "stream",
     "text": [
      "/home/airflow/.local/lib/python3.11/site-packages/sklearn/preprocessing/_encoders.py:246: UserWarning: Found unknown categories in columns [0, 1, 2, 3] during transform. These unknown categories will be encoded as all zeros\n",
      "  warnings.warn(\n"
     ]
    },
    {
     "name": "stdout",
     "output_type": "stream",
     "text": [
      "Predictions saved to: datamart/gold/model_predictions/credit_model_logistic_regression_2024_09_01/credit_model_logistic_regression_2024_09_01_predictions_2024_01_01.parquet\n",
      "Records saved: 8974\n",
      "✓ Successfully processed 2024-01-01\n",
      "\n",
      "Processing date 14/24: 2024-02-01\n",
      "Running inference for 2024-02-01 using credit_model_logistic_regression_2024_09_01\n",
      "Model artifact loaded successfully from: models/credit_model_logistic_regression_2024_09_01.pkl\n",
      "Loading features from: datamart/gold/feature_store/\n",
      "Target snapshot date: 2024-02-01 00:00:00\n"
     ]
    },
    {
     "name": "stderr",
     "output_type": "stream",
     "text": [
      "                                                                                \r"
     ]
    },
    {
     "name": "stdout",
     "output_type": "stream",
     "text": [
      "Feature data loaded: 8974 records\n",
      "Preparing features for inference...\n",
      "Using preprocessor: LogisticRegressionPreprocessor\n",
      "Expected features: 36\n",
      "Raw features shape: (8974, 135)\n",
      "Processed features shape: (8974, 36)\n",
      "Preprocessing completed successfully\n",
      "Generating model predictions...\n",
      "Using model type: logistic_regression\n",
      "Inference samples: 8974\n",
      "Predictions generated successfully\n",
      "Prediction range: [0.0135, 0.9871]\n",
      "Binary predictions distribution: [5179 3795]\n"
     ]
    },
    {
     "name": "stderr",
     "output_type": "stream",
     "text": [
      "/home/airflow/.local/lib/python3.11/site-packages/sklearn/preprocessing/_encoders.py:246: UserWarning: Found unknown categories in columns [0, 1, 2, 3] during transform. These unknown categories will be encoded as all zeros\n",
      "  warnings.warn(\n",
      "                                                                                \r"
     ]
    },
    {
     "name": "stdout",
     "output_type": "stream",
     "text": [
      "Predictions saved to: datamart/gold/model_predictions/credit_model_logistic_regression_2024_09_01/credit_model_logistic_regression_2024_09_01_predictions_2024_02_01.parquet\n",
      "Records saved: 8974\n",
      "✓ Successfully processed 2024-02-01\n",
      "\n",
      "Processing date 15/24: 2024-03-01\n",
      "Running inference for 2024-03-01 using credit_model_logistic_regression_2024_09_01\n",
      "Model artifact loaded successfully from: models/credit_model_logistic_regression_2024_09_01.pkl\n",
      "Loading features from: datamart/gold/feature_store/\n",
      "Target snapshot date: 2024-03-01 00:00:00\n"
     ]
    },
    {
     "name": "stderr",
     "output_type": "stream",
     "text": [
      "                                                                                \r"
     ]
    },
    {
     "name": "stdout",
     "output_type": "stream",
     "text": [
      "Feature data loaded: 8974 records\n",
      "Preparing features for inference...\n",
      "Using preprocessor: LogisticRegressionPreprocessor\n",
      "Expected features: 36\n",
      "Raw features shape: (8974, 135)\n",
      "Processed features shape: (8974, 36)\n",
      "Preprocessing completed successfully\n",
      "Generating model predictions...\n",
      "Using model type: logistic_regression\n",
      "Inference samples: 8974\n",
      "Predictions generated successfully\n",
      "Prediction range: [0.0133, 0.9923]\n",
      "Binary predictions distribution: [5263 3711]\n"
     ]
    },
    {
     "name": "stderr",
     "output_type": "stream",
     "text": [
      "/home/airflow/.local/lib/python3.11/site-packages/sklearn/preprocessing/_encoders.py:246: UserWarning: Found unknown categories in columns [0, 1, 2, 3] during transform. These unknown categories will be encoded as all zeros\n",
      "  warnings.warn(\n",
      "                                                                                \r"
     ]
    },
    {
     "name": "stdout",
     "output_type": "stream",
     "text": [
      "Predictions saved to: datamart/gold/model_predictions/credit_model_logistic_regression_2024_09_01/credit_model_logistic_regression_2024_09_01_predictions_2024_03_01.parquet\n",
      "Records saved: 8974\n",
      "✓ Successfully processed 2024-03-01\n",
      "\n",
      "Processing date 16/24: 2024-04-01\n",
      "Running inference for 2024-04-01 using credit_model_logistic_regression_2024_09_01\n",
      "Model artifact loaded successfully from: models/credit_model_logistic_regression_2024_09_01.pkl\n",
      "Loading features from: datamart/gold/feature_store/\n",
      "Target snapshot date: 2024-04-01 00:00:00\n"
     ]
    },
    {
     "name": "stderr",
     "output_type": "stream",
     "text": [
      "                                                                                \r"
     ]
    },
    {
     "name": "stdout",
     "output_type": "stream",
     "text": [
      "Feature data loaded: 8974 records\n",
      "Preparing features for inference...\n",
      "Using preprocessor: LogisticRegressionPreprocessor\n",
      "Expected features: 36\n",
      "Raw features shape: (8974, 135)\n",
      "Processed features shape: (8974, 36)\n",
      "Preprocessing completed successfully\n",
      "Generating model predictions...\n",
      "Using model type: logistic_regression\n",
      "Inference samples: 8974\n",
      "Predictions generated successfully\n",
      "Prediction range: [0.0079, 0.9900]\n",
      "Binary predictions distribution: [5363 3611]\n"
     ]
    },
    {
     "name": "stderr",
     "output_type": "stream",
     "text": [
      "/home/airflow/.local/lib/python3.11/site-packages/sklearn/preprocessing/_encoders.py:246: UserWarning: Found unknown categories in columns [0, 1, 2, 3] during transform. These unknown categories will be encoded as all zeros\n",
      "  warnings.warn(\n"
     ]
    },
    {
     "name": "stdout",
     "output_type": "stream",
     "text": [
      "Predictions saved to: datamart/gold/model_predictions/credit_model_logistic_regression_2024_09_01/credit_model_logistic_regression_2024_09_01_predictions_2024_04_01.parquet\n",
      "Records saved: 8974\n",
      "✓ Successfully processed 2024-04-01\n",
      "\n",
      "Processing date 17/24: 2024-05-01\n",
      "Running inference for 2024-05-01 using credit_model_logistic_regression_2024_09_01\n",
      "Model artifact loaded successfully from: models/credit_model_logistic_regression_2024_09_01.pkl\n",
      "Loading features from: datamart/gold/feature_store/\n",
      "Target snapshot date: 2024-05-01 00:00:00\n"
     ]
    },
    {
     "name": "stderr",
     "output_type": "stream",
     "text": [
      "                                                                                \r"
     ]
    },
    {
     "name": "stdout",
     "output_type": "stream",
     "text": [
      "Feature data loaded: 8974 records\n",
      "Preparing features for inference...\n",
      "Using preprocessor: LogisticRegressionPreprocessor\n",
      "Expected features: 36\n",
      "Raw features shape: (8974, 135)\n",
      "Processed features shape: (8974, 36)\n",
      "Preprocessing completed successfully\n",
      "Generating model predictions...\n",
      "Using model type: logistic_regression\n",
      "Inference samples: 8974\n",
      "Predictions generated successfully\n",
      "Prediction range: [0.0120, 0.9939]\n",
      "Binary predictions distribution: [5478 3496]\n"
     ]
    },
    {
     "name": "stderr",
     "output_type": "stream",
     "text": [
      "/home/airflow/.local/lib/python3.11/site-packages/sklearn/preprocessing/_encoders.py:246: UserWarning: Found unknown categories in columns [0, 1, 2, 3] during transform. These unknown categories will be encoded as all zeros\n",
      "  warnings.warn(\n"
     ]
    },
    {
     "name": "stdout",
     "output_type": "stream",
     "text": [
      "Predictions saved to: datamart/gold/model_predictions/credit_model_logistic_regression_2024_09_01/credit_model_logistic_regression_2024_09_01_predictions_2024_05_01.parquet\n",
      "Records saved: 8974\n",
      "✓ Successfully processed 2024-05-01\n",
      "\n",
      "Processing date 18/24: 2024-06-01\n",
      "Running inference for 2024-06-01 using credit_model_logistic_regression_2024_09_01\n",
      "Model artifact loaded successfully from: models/credit_model_logistic_regression_2024_09_01.pkl\n",
      "Loading features from: datamart/gold/feature_store/\n",
      "Target snapshot date: 2024-06-01 00:00:00\n"
     ]
    },
    {
     "name": "stderr",
     "output_type": "stream",
     "text": [
      "                                                                                \r"
     ]
    },
    {
     "name": "stdout",
     "output_type": "stream",
     "text": [
      "Feature data loaded: 8974 records\n",
      "Preparing features for inference...\n",
      "Using preprocessor: LogisticRegressionPreprocessor\n",
      "Expected features: 36\n",
      "Raw features shape: (8974, 135)\n",
      "Processed features shape: (8974, 36)\n",
      "Preprocessing completed successfully\n",
      "Generating model predictions...\n",
      "Using model type: logistic_regression\n",
      "Inference samples: 8974\n",
      "Predictions generated successfully\n",
      "Prediction range: [0.0113, 0.9883]\n",
      "Binary predictions distribution: [5550 3424]\n",
      "Predictions saved to: datamart/gold/model_predictions/credit_model_logistic_regression_2024_09_01/credit_model_logistic_regression_2024_09_01_predictions_2024_06_01.parquet\n",
      "Records saved: 8974\n",
      "✓ Successfully processed 2024-06-01\n",
      "\n",
      "Processing date 19/24: 2024-07-01\n",
      "Running inference for 2024-07-01 using credit_model_logistic_regression_2024_09_01\n",
      "Model artifact loaded successfully from: models/credit_model_logistic_regression_2024_09_01.pkl\n",
      "Loading features from: datamart/gold/feature_store/\n",
      "Target snapshot date: 2024-07-01 00:00:00\n"
     ]
    },
    {
     "name": "stderr",
     "output_type": "stream",
     "text": [
      "                                                                                \r"
     ]
    },
    {
     "name": "stdout",
     "output_type": "stream",
     "text": [
      "Feature data loaded: 9479 records\n",
      "Preparing features for inference...\n",
      "Using preprocessor: LogisticRegressionPreprocessor\n",
      "Expected features: 36\n",
      "Raw features shape: (9479, 135)\n",
      "Processed features shape: (9479, 36)\n",
      "Preprocessing completed successfully\n",
      "Generating model predictions...\n",
      "Using model type: logistic_regression\n",
      "Inference samples: 9479\n",
      "Predictions generated successfully\n",
      "Prediction range: [0.0120, 0.9869]\n",
      "Binary predictions distribution: [5846 3633]\n",
      "Predictions saved to: datamart/gold/model_predictions/credit_model_logistic_regression_2024_09_01/credit_model_logistic_regression_2024_09_01_predictions_2024_07_01.parquet\n",
      "Records saved: 9479\n",
      "✓ Successfully processed 2024-07-01\n",
      "\n",
      "Processing date 20/24: 2024-08-01\n",
      "Running inference for 2024-08-01 using credit_model_logistic_regression_2024_09_01\n",
      "Model artifact loaded successfully from: models/credit_model_logistic_regression_2024_09_01.pkl\n",
      "Loading features from: datamart/gold/feature_store/\n",
      "Target snapshot date: 2024-08-01 00:00:00\n"
     ]
    },
    {
     "name": "stderr",
     "output_type": "stream",
     "text": [
      "                                                                                \r"
     ]
    },
    {
     "name": "stdout",
     "output_type": "stream",
     "text": [
      "Feature data loaded: 10022 records\n",
      "Preparing features for inference...\n",
      "Using preprocessor: LogisticRegressionPreprocessor\n",
      "Expected features: 36\n",
      "Raw features shape: (10022, 135)\n",
      "Processed features shape: (10022, 36)\n",
      "Preprocessing completed successfully\n",
      "Generating model predictions...\n",
      "Using model type: logistic_regression\n",
      "Inference samples: 10022\n",
      "Predictions generated successfully\n",
      "Prediction range: [0.0118, 0.9906]\n",
      "Binary predictions distribution: [6230 3792]\n",
      "Predictions saved to: datamart/gold/model_predictions/credit_model_logistic_regression_2024_09_01/credit_model_logistic_regression_2024_09_01_predictions_2024_08_01.parquet\n",
      "Records saved: 10022\n",
      "✓ Successfully processed 2024-08-01\n",
      "\n",
      "Processing date 21/24: 2024-09-01\n",
      "Running inference for 2024-09-01 using credit_model_logistic_regression_2024_09_01\n",
      "Model artifact loaded successfully from: models/credit_model_logistic_regression_2024_09_01.pkl\n",
      "Loading features from: datamart/gold/feature_store/\n",
      "Target snapshot date: 2024-09-01 00:00:00\n"
     ]
    },
    {
     "name": "stderr",
     "output_type": "stream",
     "text": [
      "                                                                                \r"
     ]
    },
    {
     "name": "stdout",
     "output_type": "stream",
     "text": [
      "Feature data loaded: 10515 records\n",
      "Preparing features for inference...\n",
      "Using preprocessor: LogisticRegressionPreprocessor\n",
      "Expected features: 36\n",
      "Raw features shape: (10515, 135)\n",
      "Processed features shape: (10515, 36)\n",
      "Preprocessing completed successfully\n",
      "Generating model predictions...\n",
      "Using model type: logistic_regression\n",
      "Inference samples: 10515\n",
      "Predictions generated successfully\n",
      "Prediction range: [0.0110, 0.9884]\n",
      "Binary predictions distribution: [6587 3928]\n",
      "Predictions saved to: datamart/gold/model_predictions/credit_model_logistic_regression_2024_09_01/credit_model_logistic_regression_2024_09_01_predictions_2024_09_01.parquet\n",
      "Records saved: 10515\n",
      "✓ Successfully processed 2024-09-01\n",
      "\n",
      "Processing date 22/24: 2024-10-01\n",
      "Running inference for 2024-10-01 using credit_model_logistic_regression_2024_09_01\n",
      "Model artifact loaded successfully from: models/credit_model_logistic_regression_2024_09_01.pkl\n",
      "Loading features from: datamart/gold/feature_store/\n",
      "Target snapshot date: 2024-10-01 00:00:00\n"
     ]
    },
    {
     "name": "stderr",
     "output_type": "stream",
     "text": [
      "                                                                                \r"
     ]
    },
    {
     "name": "stdout",
     "output_type": "stream",
     "text": [
      "Feature data loaded: 10971 records\n",
      "Preparing features for inference...\n",
      "Using preprocessor: LogisticRegressionPreprocessor\n",
      "Expected features: 36\n",
      "Raw features shape: (10971, 135)\n",
      "Processed features shape: (10971, 36)\n",
      "Preprocessing completed successfully\n",
      "Generating model predictions...\n",
      "Using model type: logistic_regression\n",
      "Inference samples: 10971\n",
      "Predictions generated successfully\n",
      "Prediction range: [0.0129, 0.9909]\n",
      "Binary predictions distribution: [6894 4077]\n",
      "Predictions saved to: datamart/gold/model_predictions/credit_model_logistic_regression_2024_09_01/credit_model_logistic_regression_2024_09_01_predictions_2024_10_01.parquet\n",
      "Records saved: 10971\n",
      "✓ Successfully processed 2024-10-01\n",
      "\n",
      "Processing date 23/24: 2024-11-01\n",
      "Running inference for 2024-11-01 using credit_model_logistic_regression_2024_09_01\n",
      "Model artifact loaded successfully from: models/credit_model_logistic_regression_2024_09_01.pkl\n",
      "Loading features from: datamart/gold/feature_store/\n",
      "Target snapshot date: 2024-11-01 00:00:00\n"
     ]
    },
    {
     "name": "stderr",
     "output_type": "stream",
     "text": [
      "                                                                                \r"
     ]
    },
    {
     "name": "stdout",
     "output_type": "stream",
     "text": [
      "Feature data loaded: 11459 records\n",
      "Preparing features for inference...\n",
      "Using preprocessor: LogisticRegressionPreprocessor\n",
      "Expected features: 36\n",
      "Raw features shape: (11459, 135)\n",
      "Processed features shape: (11459, 36)\n",
      "Preprocessing completed successfully\n",
      "Generating model predictions...\n",
      "Using model type: logistic_regression\n",
      "Inference samples: 11459\n",
      "Predictions generated successfully\n",
      "Prediction range: [0.0118, 0.9912]\n",
      "Binary predictions distribution: [7193 4266]\n",
      "Predictions saved to: datamart/gold/model_predictions/credit_model_logistic_regression_2024_09_01/credit_model_logistic_regression_2024_09_01_predictions_2024_11_01.parquet\n",
      "Records saved: 11459\n",
      "✓ Successfully processed 2024-11-01\n",
      "\n",
      "Processing date 24/24: 2024-12-01\n",
      "Running inference for 2024-12-01 using credit_model_logistic_regression_2024_09_01\n",
      "Model artifact loaded successfully from: models/credit_model_logistic_regression_2024_09_01.pkl\n",
      "Loading features from: datamart/gold/feature_store/\n",
      "Target snapshot date: 2024-12-01 00:00:00\n"
     ]
    },
    {
     "name": "stderr",
     "output_type": "stream",
     "text": [
      "                                                                                \r"
     ]
    },
    {
     "name": "stdout",
     "output_type": "stream",
     "text": [
      "Feature data loaded: 11974 records\n",
      "Preparing features for inference...\n",
      "Using preprocessor: LogisticRegressionPreprocessor\n",
      "Expected features: 36\n",
      "Raw features shape: (11974, 135)\n",
      "Processed features shape: (11974, 36)\n",
      "Preprocessing completed successfully\n",
      "Generating model predictions...\n",
      "Using model type: logistic_regression\n",
      "Inference samples: 11974\n",
      "Predictions generated successfully\n",
      "Prediction range: [0.0084, 0.9930]\n",
      "Binary predictions distribution: [7563 4411]\n",
      "Predictions saved to: datamart/gold/model_predictions/credit_model_logistic_regression_2024_09_01/credit_model_logistic_regression_2024_09_01_predictions_2024_12_01.parquet\n",
      "Records saved: 11974\n",
      "✓ Successfully processed 2024-12-01\n",
      "Model credit_model_logistic_regression_2024_09_01 completed:\n",
      "  Successful: 18 dates\n",
      "  Failed: 6 dates\n",
      "\n",
      "Processing model: credit_model_random_forest_2024_09_01\n",
      "========================================\n",
      "Starting batch inference for 24 dates\n",
      "Model: credit_model_random_forest_2024_09_01\n",
      "\n",
      "Processing date 1/24: 2023-01-01\n",
      "Running inference for 2023-01-01 using credit_model_random_forest_2024_09_01\n",
      "Model artifact loaded successfully from: models/credit_model_random_forest_2024_09_01.pkl\n",
      "Loading features from: datamart/gold/feature_store/\n",
      "Target snapshot date: 2023-01-01 00:00:00\n"
     ]
    },
    {
     "name": "stderr",
     "output_type": "stream",
     "text": [
      "                                                                                \r"
     ]
    },
    {
     "name": "stdout",
     "output_type": "stream",
     "text": [
      "No feature data found for snapshot date: 2023-01-01 00:00:00\n",
      "✗ Failed to process 2023-01-01: Failed to load feature data\n",
      "\n",
      "Processing date 2/24: 2023-02-01\n",
      "Running inference for 2023-02-01 using credit_model_random_forest_2024_09_01\n",
      "Model artifact loaded successfully from: models/credit_model_random_forest_2024_09_01.pkl\n",
      "Loading features from: datamart/gold/feature_store/\n",
      "Target snapshot date: 2023-02-01 00:00:00\n"
     ]
    },
    {
     "name": "stderr",
     "output_type": "stream",
     "text": [
      "                                                                                \r"
     ]
    },
    {
     "name": "stdout",
     "output_type": "stream",
     "text": [
      "No feature data found for snapshot date: 2023-02-01 00:00:00\n",
      "✗ Failed to process 2023-02-01: Failed to load feature data\n",
      "\n",
      "Processing date 3/24: 2023-03-01\n",
      "Running inference for 2023-03-01 using credit_model_random_forest_2024_09_01\n",
      "Model artifact loaded successfully from: models/credit_model_random_forest_2024_09_01.pkl\n",
      "Loading features from: datamart/gold/feature_store/\n",
      "Target snapshot date: 2023-03-01 00:00:00\n",
      "No feature data found for snapshot date: 2023-03-01 00:00:00\n",
      "✗ Failed to process 2023-03-01: Failed to load feature data\n",
      "\n",
      "Processing date 4/24: 2023-04-01\n",
      "Running inference for 2023-04-01 using credit_model_random_forest_2024_09_01\n",
      "Model artifact loaded successfully from: models/credit_model_random_forest_2024_09_01.pkl\n",
      "Loading features from: datamart/gold/feature_store/\n",
      "Target snapshot date: 2023-04-01 00:00:00\n",
      "No feature data found for snapshot date: 2023-04-01 00:00:00\n",
      "✗ Failed to process 2023-04-01: Failed to load feature data\n",
      "\n",
      "Processing date 5/24: 2023-05-01\n",
      "Running inference for 2023-05-01 using credit_model_random_forest_2024_09_01\n",
      "Model artifact loaded successfully from: models/credit_model_random_forest_2024_09_01.pkl\n",
      "Loading features from: datamart/gold/feature_store/\n",
      "Target snapshot date: 2023-05-01 00:00:00\n",
      "No feature data found for snapshot date: 2023-05-01 00:00:00\n",
      "✗ Failed to process 2023-05-01: Failed to load feature data\n",
      "\n",
      "Processing date 6/24: 2023-06-01\n",
      "Running inference for 2023-06-01 using credit_model_random_forest_2024_09_01\n",
      "Model artifact loaded successfully from: models/credit_model_random_forest_2024_09_01.pkl\n",
      "Loading features from: datamart/gold/feature_store/\n",
      "Target snapshot date: 2023-06-01 00:00:00\n",
      "No feature data found for snapshot date: 2023-06-01 00:00:00\n",
      "✗ Failed to process 2023-06-01: Failed to load feature data\n",
      "\n",
      "Processing date 7/24: 2023-07-01\n",
      "Running inference for 2023-07-01 using credit_model_random_forest_2024_09_01\n",
      "Model artifact loaded successfully from: models/credit_model_random_forest_2024_09_01.pkl\n",
      "Loading features from: datamart/gold/feature_store/\n",
      "Target snapshot date: 2023-07-01 00:00:00\n",
      "Feature data loaded: 8974 records\n",
      "Preparing features for inference...\n",
      "Using preprocessor: RandomForestPreprocessor\n",
      "Expected features: 140\n",
      "Raw features shape: (8974, 135)\n",
      "Processed features shape: (8974, 140)\n",
      "Preprocessing completed successfully\n",
      "Generating model predictions...\n",
      "Using model type: random_forest\n",
      "Inference samples: 8974\n",
      "Predictions generated successfully\n",
      "Prediction range: [0.0057, 0.9648]\n",
      "Binary predictions distribution: [7304 1670]\n",
      "Created output directory: datamart/gold/model_predictions/credit_model_random_forest_2024_09_01\n",
      "Predictions saved to: datamart/gold/model_predictions/credit_model_random_forest_2024_09_01/credit_model_random_forest_2024_09_01_predictions_2023_07_01.parquet\n",
      "Records saved: 8974\n",
      "✓ Successfully processed 2023-07-01\n",
      "\n",
      "Processing date 8/24: 2023-08-01\n",
      "Running inference for 2023-08-01 using credit_model_random_forest_2024_09_01\n",
      "Model artifact loaded successfully from: models/credit_model_random_forest_2024_09_01.pkl\n",
      "Loading features from: datamart/gold/feature_store/\n",
      "Target snapshot date: 2023-08-01 00:00:00\n"
     ]
    },
    {
     "name": "stderr",
     "output_type": "stream",
     "text": [
      "                                                                                \r"
     ]
    },
    {
     "name": "stdout",
     "output_type": "stream",
     "text": [
      "Feature data loaded: 8974 records\n",
      "Preparing features for inference...\n",
      "Using preprocessor: RandomForestPreprocessor\n",
      "Expected features: 140\n",
      "Raw features shape: (8974, 135)\n",
      "Processed features shape: (8974, 140)\n",
      "Preprocessing completed successfully\n",
      "Generating model predictions...\n",
      "Using model type: random_forest\n",
      "Inference samples: 8974\n",
      "Predictions generated successfully\n",
      "Prediction range: [0.0061, 0.9750]\n",
      "Binary predictions distribution: [7196 1778]\n",
      "Predictions saved to: datamart/gold/model_predictions/credit_model_random_forest_2024_09_01/credit_model_random_forest_2024_09_01_predictions_2023_08_01.parquet\n",
      "Records saved: 8974\n",
      "✓ Successfully processed 2023-08-01\n",
      "\n",
      "Processing date 9/24: 2023-09-01\n",
      "Running inference for 2023-09-01 using credit_model_random_forest_2024_09_01\n",
      "Model artifact loaded successfully from: models/credit_model_random_forest_2024_09_01.pkl\n",
      "Loading features from: datamart/gold/feature_store/\n",
      "Target snapshot date: 2023-09-01 00:00:00\n"
     ]
    },
    {
     "name": "stderr",
     "output_type": "stream",
     "text": [
      "                                                                                \r"
     ]
    },
    {
     "name": "stdout",
     "output_type": "stream",
     "text": [
      "Feature data loaded: 8974 records\n",
      "Preparing features for inference...\n",
      "Using preprocessor: RandomForestPreprocessor\n",
      "Expected features: 140\n",
      "Raw features shape: (8974, 135)\n",
      "Processed features shape: (8974, 140)\n",
      "Preprocessing completed successfully\n",
      "Generating model predictions...\n",
      "Using model type: random_forest\n",
      "Inference samples: 8974\n",
      "Predictions generated successfully\n",
      "Prediction range: [0.0028, 0.9764]\n",
      "Binary predictions distribution: [7106 1868]\n"
     ]
    },
    {
     "name": "stderr",
     "output_type": "stream",
     "text": [
      "                                                                                \r"
     ]
    },
    {
     "name": "stdout",
     "output_type": "stream",
     "text": [
      "Predictions saved to: datamart/gold/model_predictions/credit_model_random_forest_2024_09_01/credit_model_random_forest_2024_09_01_predictions_2023_09_01.parquet\n",
      "Records saved: 8974\n",
      "✓ Successfully processed 2023-09-01\n",
      "\n",
      "Processing date 10/24: 2023-10-01\n",
      "Running inference for 2023-10-01 using credit_model_random_forest_2024_09_01\n",
      "Model artifact loaded successfully from: models/credit_model_random_forest_2024_09_01.pkl\n",
      "Loading features from: datamart/gold/feature_store/\n",
      "Target snapshot date: 2023-10-01 00:00:00\n"
     ]
    },
    {
     "name": "stderr",
     "output_type": "stream",
     "text": [
      "                                                                                \r"
     ]
    },
    {
     "name": "stdout",
     "output_type": "stream",
     "text": [
      "Feature data loaded: 8974 records\n",
      "Preparing features for inference...\n",
      "Using preprocessor: RandomForestPreprocessor\n",
      "Expected features: 140\n",
      "Raw features shape: (8974, 135)\n",
      "Processed features shape: (8974, 140)\n",
      "Preprocessing completed successfully\n",
      "Generating model predictions...\n",
      "Using model type: random_forest\n",
      "Inference samples: 8974\n",
      "Predictions generated successfully\n",
      "Prediction range: [0.0056, 0.9816]\n",
      "Binary predictions distribution: [7055 1919]\n",
      "Predictions saved to: datamart/gold/model_predictions/credit_model_random_forest_2024_09_01/credit_model_random_forest_2024_09_01_predictions_2023_10_01.parquet\n",
      "Records saved: 8974\n",
      "✓ Successfully processed 2023-10-01\n",
      "\n",
      "Processing date 11/24: 2023-11-01\n",
      "Running inference for 2023-11-01 using credit_model_random_forest_2024_09_01\n",
      "Model artifact loaded successfully from: models/credit_model_random_forest_2024_09_01.pkl\n",
      "Loading features from: datamart/gold/feature_store/\n",
      "Target snapshot date: 2023-11-01 00:00:00\n"
     ]
    },
    {
     "name": "stderr",
     "output_type": "stream",
     "text": [
      "                                                                                \r"
     ]
    },
    {
     "name": "stdout",
     "output_type": "stream",
     "text": [
      "Feature data loaded: 8974 records\n",
      "Preparing features for inference...\n",
      "Using preprocessor: RandomForestPreprocessor\n",
      "Expected features: 140\n",
      "Raw features shape: (8974, 135)\n",
      "Processed features shape: (8974, 140)\n",
      "Preprocessing completed successfully\n",
      "Generating model predictions...\n",
      "Using model type: random_forest\n",
      "Inference samples: 8974\n",
      "Predictions generated successfully\n",
      "Prediction range: [0.0000, 0.9724]\n",
      "Binary predictions distribution: [7008 1966]\n",
      "Predictions saved to: datamart/gold/model_predictions/credit_model_random_forest_2024_09_01/credit_model_random_forest_2024_09_01_predictions_2023_11_01.parquet\n",
      "Records saved: 8974\n",
      "✓ Successfully processed 2023-11-01\n",
      "\n",
      "Processing date 12/24: 2023-12-01\n",
      "Running inference for 2023-12-01 using credit_model_random_forest_2024_09_01\n",
      "Model artifact loaded successfully from: models/credit_model_random_forest_2024_09_01.pkl\n",
      "Loading features from: datamart/gold/feature_store/\n",
      "Target snapshot date: 2023-12-01 00:00:00\n"
     ]
    },
    {
     "name": "stderr",
     "output_type": "stream",
     "text": [
      "                                                                                \r"
     ]
    },
    {
     "name": "stdout",
     "output_type": "stream",
     "text": [
      "Feature data loaded: 8974 records\n",
      "Preparing features for inference...\n",
      "Using preprocessor: RandomForestPreprocessor\n",
      "Expected features: 140\n",
      "Raw features shape: (8974, 135)\n",
      "Processed features shape: (8974, 140)\n",
      "Preprocessing completed successfully\n",
      "Generating model predictions...\n",
      "Using model type: random_forest\n",
      "Inference samples: 8974\n",
      "Predictions generated successfully\n",
      "Prediction range: [0.0039, 0.9725]\n",
      "Binary predictions distribution: [6946 2028]\n",
      "Predictions saved to: datamart/gold/model_predictions/credit_model_random_forest_2024_09_01/credit_model_random_forest_2024_09_01_predictions_2023_12_01.parquet\n",
      "Records saved: 8974\n",
      "✓ Successfully processed 2023-12-01\n",
      "\n",
      "Processing date 13/24: 2024-01-01\n",
      "Running inference for 2024-01-01 using credit_model_random_forest_2024_09_01\n",
      "Model artifact loaded successfully from: models/credit_model_random_forest_2024_09_01.pkl\n",
      "Loading features from: datamart/gold/feature_store/\n",
      "Target snapshot date: 2024-01-01 00:00:00\n"
     ]
    },
    {
     "name": "stderr",
     "output_type": "stream",
     "text": [
      "                                                                                \r"
     ]
    },
    {
     "name": "stdout",
     "output_type": "stream",
     "text": [
      "Feature data loaded: 8974 records\n",
      "Preparing features for inference...\n",
      "Using preprocessor: RandomForestPreprocessor\n",
      "Expected features: 140\n",
      "Raw features shape: (8974, 135)\n",
      "Processed features shape: (8974, 140)\n",
      "Preprocessing completed successfully\n",
      "Generating model predictions...\n",
      "Using model type: random_forest\n",
      "Inference samples: 8974\n",
      "Predictions generated successfully\n",
      "Prediction range: [0.0019, 0.9765]\n",
      "Binary predictions distribution: [6884 2090]\n",
      "Predictions saved to: datamart/gold/model_predictions/credit_model_random_forest_2024_09_01/credit_model_random_forest_2024_09_01_predictions_2024_01_01.parquet\n",
      "Records saved: 8974\n",
      "✓ Successfully processed 2024-01-01\n",
      "\n",
      "Processing date 14/24: 2024-02-01\n",
      "Running inference for 2024-02-01 using credit_model_random_forest_2024_09_01\n",
      "Model artifact loaded successfully from: models/credit_model_random_forest_2024_09_01.pkl\n",
      "Loading features from: datamart/gold/feature_store/\n",
      "Target snapshot date: 2024-02-01 00:00:00\n"
     ]
    },
    {
     "name": "stderr",
     "output_type": "stream",
     "text": [
      "                                                                                \r"
     ]
    },
    {
     "name": "stdout",
     "output_type": "stream",
     "text": [
      "Feature data loaded: 8974 records\n",
      "Preparing features for inference...\n",
      "Using preprocessor: RandomForestPreprocessor\n",
      "Expected features: 140\n",
      "Raw features shape: (8974, 135)\n",
      "Processed features shape: (8974, 140)\n",
      "Preprocessing completed successfully\n",
      "Generating model predictions...\n",
      "Using model type: random_forest\n",
      "Inference samples: 8974\n",
      "Predictions generated successfully\n",
      "Prediction range: [0.0038, 0.9741]\n",
      "Binary predictions distribution: [6792 2182]\n",
      "Predictions saved to: datamart/gold/model_predictions/credit_model_random_forest_2024_09_01/credit_model_random_forest_2024_09_01_predictions_2024_02_01.parquet\n",
      "Records saved: 8974\n",
      "✓ Successfully processed 2024-02-01\n",
      "\n",
      "Processing date 15/24: 2024-03-01\n",
      "Running inference for 2024-03-01 using credit_model_random_forest_2024_09_01\n",
      "Model artifact loaded successfully from: models/credit_model_random_forest_2024_09_01.pkl\n",
      "Loading features from: datamart/gold/feature_store/\n",
      "Target snapshot date: 2024-03-01 00:00:00\n"
     ]
    },
    {
     "name": "stderr",
     "output_type": "stream",
     "text": [
      "                                                                                \r"
     ]
    },
    {
     "name": "stdout",
     "output_type": "stream",
     "text": [
      "Feature data loaded: 8974 records\n",
      "Preparing features for inference...\n",
      "Using preprocessor: RandomForestPreprocessor\n",
      "Expected features: 140\n",
      "Raw features shape: (8974, 135)\n",
      "Processed features shape: (8974, 140)\n",
      "Preprocessing completed successfully\n",
      "Generating model predictions...\n",
      "Using model type: random_forest\n",
      "Inference samples: 8974\n",
      "Predictions generated successfully\n",
      "Prediction range: [0.0034, 0.9789]\n",
      "Binary predictions distribution: [6697 2277]\n",
      "Predictions saved to: datamart/gold/model_predictions/credit_model_random_forest_2024_09_01/credit_model_random_forest_2024_09_01_predictions_2024_03_01.parquet\n",
      "Records saved: 8974\n",
      "✓ Successfully processed 2024-03-01\n",
      "\n",
      "Processing date 16/24: 2024-04-01\n",
      "Running inference for 2024-04-01 using credit_model_random_forest_2024_09_01\n",
      "Model artifact loaded successfully from: models/credit_model_random_forest_2024_09_01.pkl\n",
      "Loading features from: datamart/gold/feature_store/\n",
      "Target snapshot date: 2024-04-01 00:00:00\n"
     ]
    },
    {
     "name": "stderr",
     "output_type": "stream",
     "text": [
      "                                                                                \r"
     ]
    },
    {
     "name": "stdout",
     "output_type": "stream",
     "text": [
      "Feature data loaded: 8974 records\n",
      "Preparing features for inference...\n",
      "Using preprocessor: RandomForestPreprocessor\n",
      "Expected features: 140\n",
      "Raw features shape: (8974, 135)\n",
      "Processed features shape: (8974, 140)\n",
      "Preprocessing completed successfully\n",
      "Generating model predictions...\n",
      "Using model type: random_forest\n",
      "Inference samples: 8974\n",
      "Predictions generated successfully\n",
      "Prediction range: [0.0042, 0.9778]\n",
      "Binary predictions distribution: [6652 2322]\n"
     ]
    },
    {
     "name": "stderr",
     "output_type": "stream",
     "text": [
      "                                                                                \r"
     ]
    },
    {
     "name": "stdout",
     "output_type": "stream",
     "text": [
      "Predictions saved to: datamart/gold/model_predictions/credit_model_random_forest_2024_09_01/credit_model_random_forest_2024_09_01_predictions_2024_04_01.parquet\n",
      "Records saved: 8974\n",
      "✓ Successfully processed 2024-04-01\n",
      "\n",
      "Processing date 17/24: 2024-05-01\n",
      "Running inference for 2024-05-01 using credit_model_random_forest_2024_09_01\n",
      "Model artifact loaded successfully from: models/credit_model_random_forest_2024_09_01.pkl\n",
      "Loading features from: datamart/gold/feature_store/\n",
      "Target snapshot date: 2024-05-01 00:00:00\n"
     ]
    },
    {
     "name": "stderr",
     "output_type": "stream",
     "text": [
      "                                                                                \r"
     ]
    },
    {
     "name": "stdout",
     "output_type": "stream",
     "text": [
      "Feature data loaded: 8974 records\n",
      "Preparing features for inference...\n",
      "Using preprocessor: RandomForestPreprocessor\n",
      "Expected features: 140\n",
      "Raw features shape: (8974, 135)\n",
      "Processed features shape: (8974, 140)\n",
      "Preprocessing completed successfully\n",
      "Generating model predictions...\n",
      "Using model type: random_forest\n",
      "Inference samples: 8974\n",
      "Predictions generated successfully\n",
      "Prediction range: [0.0020, 0.9747]\n",
      "Binary predictions distribution: [6591 2383]\n",
      "Predictions saved to: datamart/gold/model_predictions/credit_model_random_forest_2024_09_01/credit_model_random_forest_2024_09_01_predictions_2024_05_01.parquet\n",
      "Records saved: 8974\n",
      "✓ Successfully processed 2024-05-01\n",
      "\n",
      "Processing date 18/24: 2024-06-01\n",
      "Running inference for 2024-06-01 using credit_model_random_forest_2024_09_01\n",
      "Model artifact loaded successfully from: models/credit_model_random_forest_2024_09_01.pkl\n",
      "Loading features from: datamart/gold/feature_store/\n",
      "Target snapshot date: 2024-06-01 00:00:00\n"
     ]
    },
    {
     "name": "stderr",
     "output_type": "stream",
     "text": [
      "                                                                                \r"
     ]
    },
    {
     "name": "stdout",
     "output_type": "stream",
     "text": [
      "Feature data loaded: 8974 records\n",
      "Preparing features for inference...\n",
      "Using preprocessor: RandomForestPreprocessor\n",
      "Expected features: 140\n",
      "Raw features shape: (8974, 135)\n",
      "Processed features shape: (8974, 140)\n",
      "Preprocessing completed successfully\n",
      "Generating model predictions...\n",
      "Using model type: random_forest\n",
      "Inference samples: 8974\n",
      "Predictions generated successfully\n",
      "Prediction range: [0.0000, 0.9817]\n",
      "Binary predictions distribution: [6493 2481]\n",
      "Predictions saved to: datamart/gold/model_predictions/credit_model_random_forest_2024_09_01/credit_model_random_forest_2024_09_01_predictions_2024_06_01.parquet\n",
      "Records saved: 8974\n",
      "✓ Successfully processed 2024-06-01\n",
      "\n",
      "Processing date 19/24: 2024-07-01\n",
      "Running inference for 2024-07-01 using credit_model_random_forest_2024_09_01\n",
      "Model artifact loaded successfully from: models/credit_model_random_forest_2024_09_01.pkl\n",
      "Loading features from: datamart/gold/feature_store/\n",
      "Target snapshot date: 2024-07-01 00:00:00\n"
     ]
    },
    {
     "name": "stderr",
     "output_type": "stream",
     "text": [
      "                                                                                \r"
     ]
    },
    {
     "name": "stdout",
     "output_type": "stream",
     "text": [
      "Feature data loaded: 9479 records\n",
      "Preparing features for inference...\n",
      "Using preprocessor: RandomForestPreprocessor\n",
      "Expected features: 140\n",
      "Raw features shape: (9479, 135)\n",
      "Processed features shape: (9479, 140)\n",
      "Preprocessing completed successfully\n",
      "Generating model predictions...\n",
      "Using model type: random_forest\n",
      "Inference samples: 9479\n",
      "Predictions generated successfully\n",
      "Prediction range: [0.0018, 0.9710]\n",
      "Binary predictions distribution: [6846 2633]\n",
      "Predictions saved to: datamart/gold/model_predictions/credit_model_random_forest_2024_09_01/credit_model_random_forest_2024_09_01_predictions_2024_07_01.parquet\n",
      "Records saved: 9479\n",
      "✓ Successfully processed 2024-07-01\n",
      "\n",
      "Processing date 20/24: 2024-08-01\n",
      "Running inference for 2024-08-01 using credit_model_random_forest_2024_09_01\n",
      "Model artifact loaded successfully from: models/credit_model_random_forest_2024_09_01.pkl\n",
      "Loading features from: datamart/gold/feature_store/\n",
      "Target snapshot date: 2024-08-01 00:00:00\n"
     ]
    },
    {
     "name": "stderr",
     "output_type": "stream",
     "text": [
      "                                                                                \r"
     ]
    },
    {
     "name": "stdout",
     "output_type": "stream",
     "text": [
      "Feature data loaded: 10022 records\n",
      "Preparing features for inference...\n",
      "Using preprocessor: RandomForestPreprocessor\n",
      "Expected features: 140\n",
      "Raw features shape: (10022, 135)\n",
      "Processed features shape: (10022, 140)\n",
      "Preprocessing completed successfully\n",
      "Generating model predictions...\n",
      "Using model type: random_forest\n",
      "Inference samples: 10022\n",
      "Predictions generated successfully\n",
      "Prediction range: [0.0011, 0.9750]\n",
      "Binary predictions distribution: [7248 2774]\n"
     ]
    },
    {
     "name": "stderr",
     "output_type": "stream",
     "text": [
      "                                                                                \r"
     ]
    },
    {
     "name": "stdout",
     "output_type": "stream",
     "text": [
      "Predictions saved to: datamart/gold/model_predictions/credit_model_random_forest_2024_09_01/credit_model_random_forest_2024_09_01_predictions_2024_08_01.parquet\n",
      "Records saved: 10022\n",
      "✓ Successfully processed 2024-08-01\n",
      "\n",
      "Processing date 21/24: 2024-09-01\n",
      "Running inference for 2024-09-01 using credit_model_random_forest_2024_09_01\n",
      "Model artifact loaded successfully from: models/credit_model_random_forest_2024_09_01.pkl\n",
      "Loading features from: datamart/gold/feature_store/\n",
      "Target snapshot date: 2024-09-01 00:00:00\n"
     ]
    },
    {
     "name": "stderr",
     "output_type": "stream",
     "text": [
      "                                                                                \r"
     ]
    },
    {
     "name": "stdout",
     "output_type": "stream",
     "text": [
      "Feature data loaded: 10515 records\n",
      "Preparing features for inference...\n",
      "Using preprocessor: RandomForestPreprocessor\n",
      "Expected features: 140\n",
      "Raw features shape: (10515, 135)\n",
      "Processed features shape: (10515, 140)\n",
      "Preprocessing completed successfully\n",
      "Generating model predictions...\n",
      "Using model type: random_forest\n",
      "Inference samples: 10515\n",
      "Predictions generated successfully\n",
      "Prediction range: [0.0010, 0.9697]\n",
      "Binary predictions distribution: [7538 2977]\n"
     ]
    },
    {
     "name": "stderr",
     "output_type": "stream",
     "text": [
      "                                                                                \r"
     ]
    },
    {
     "name": "stdout",
     "output_type": "stream",
     "text": [
      "Predictions saved to: datamart/gold/model_predictions/credit_model_random_forest_2024_09_01/credit_model_random_forest_2024_09_01_predictions_2024_09_01.parquet\n",
      "Records saved: 10515\n",
      "✓ Successfully processed 2024-09-01\n",
      "\n",
      "Processing date 22/24: 2024-10-01\n",
      "Running inference for 2024-10-01 using credit_model_random_forest_2024_09_01\n",
      "Model artifact loaded successfully from: models/credit_model_random_forest_2024_09_01.pkl\n",
      "Loading features from: datamart/gold/feature_store/\n",
      "Target snapshot date: 2024-10-01 00:00:00\n"
     ]
    },
    {
     "name": "stderr",
     "output_type": "stream",
     "text": [
      "                                                                                \r"
     ]
    },
    {
     "name": "stdout",
     "output_type": "stream",
     "text": [
      "Feature data loaded: 10971 records\n",
      "Preparing features for inference...\n",
      "Using preprocessor: RandomForestPreprocessor\n",
      "Expected features: 140\n",
      "Raw features shape: (10971, 135)\n",
      "Processed features shape: (10971, 140)\n",
      "Preprocessing completed successfully\n",
      "Generating model predictions...\n",
      "Using model type: random_forest\n",
      "Inference samples: 10971\n",
      "Predictions generated successfully\n",
      "Prediction range: [0.0012, 0.9671]\n",
      "Binary predictions distribution: [7851 3120]\n"
     ]
    },
    {
     "name": "stderr",
     "output_type": "stream",
     "text": [
      "                                                                                \r"
     ]
    },
    {
     "name": "stdout",
     "output_type": "stream",
     "text": [
      "Predictions saved to: datamart/gold/model_predictions/credit_model_random_forest_2024_09_01/credit_model_random_forest_2024_09_01_predictions_2024_10_01.parquet\n",
      "Records saved: 10971\n",
      "✓ Successfully processed 2024-10-01\n",
      "\n",
      "Processing date 23/24: 2024-11-01\n",
      "Running inference for 2024-11-01 using credit_model_random_forest_2024_09_01\n",
      "Model artifact loaded successfully from: models/credit_model_random_forest_2024_09_01.pkl\n",
      "Loading features from: datamart/gold/feature_store/\n",
      "Target snapshot date: 2024-11-01 00:00:00\n"
     ]
    },
    {
     "name": "stderr",
     "output_type": "stream",
     "text": [
      "                                                                                \r"
     ]
    },
    {
     "name": "stdout",
     "output_type": "stream",
     "text": [
      "Feature data loaded: 11459 records\n",
      "Preparing features for inference...\n",
      "Using preprocessor: RandomForestPreprocessor\n",
      "Expected features: 140\n",
      "Raw features shape: (11459, 135)\n",
      "Processed features shape: (11459, 140)\n",
      "Preprocessing completed successfully\n",
      "Generating model predictions...\n",
      "Using model type: random_forest\n",
      "Inference samples: 11459\n",
      "Predictions generated successfully\n",
      "Prediction range: [0.0060, 0.9727]\n",
      "Binary predictions distribution: [8227 3232]\n",
      "Predictions saved to: datamart/gold/model_predictions/credit_model_random_forest_2024_09_01/credit_model_random_forest_2024_09_01_predictions_2024_11_01.parquet\n",
      "Records saved: 11459\n",
      "✓ Successfully processed 2024-11-01\n",
      "\n",
      "Processing date 24/24: 2024-12-01\n",
      "Running inference for 2024-12-01 using credit_model_random_forest_2024_09_01\n",
      "Model artifact loaded successfully from: models/credit_model_random_forest_2024_09_01.pkl\n",
      "Loading features from: datamart/gold/feature_store/\n",
      "Target snapshot date: 2024-12-01 00:00:00\n"
     ]
    },
    {
     "name": "stderr",
     "output_type": "stream",
     "text": [
      "                                                                                \r"
     ]
    },
    {
     "name": "stdout",
     "output_type": "stream",
     "text": [
      "Feature data loaded: 11974 records\n",
      "Preparing features for inference...\n",
      "Using preprocessor: RandomForestPreprocessor\n",
      "Expected features: 140\n",
      "Raw features shape: (11974, 135)\n",
      "Processed features shape: (11974, 140)\n",
      "Preprocessing completed successfully\n",
      "Generating model predictions...\n",
      "Using model type: random_forest\n",
      "Inference samples: 11974\n",
      "Predictions generated successfully\n",
      "Prediction range: [0.0029, 0.9801]\n",
      "Binary predictions distribution: [8564 3410]\n",
      "Predictions saved to: datamart/gold/model_predictions/credit_model_random_forest_2024_09_01/credit_model_random_forest_2024_09_01_predictions_2024_12_01.parquet\n",
      "Records saved: 11974\n",
      "✓ Successfully processed 2024-12-01\n",
      "Model credit_model_random_forest_2024_09_01 completed:\n",
      "  Successful: 18 dates\n",
      "  Failed: 6 dates\n",
      "\n",
      "Processing model: credit_model_xgboost_2024_09_01\n",
      "========================================\n",
      "Starting batch inference for 24 dates\n",
      "Model: credit_model_xgboost_2024_09_01\n",
      "\n",
      "Processing date 1/24: 2023-01-01\n",
      "Running inference for 2023-01-01 using credit_model_xgboost_2024_09_01\n",
      "Model artifact loaded successfully from: models/credit_model_xgboost_2024_09_01.pkl\n",
      "Loading features from: datamart/gold/feature_store/\n",
      "Target snapshot date: 2023-01-01 00:00:00\n"
     ]
    },
    {
     "name": "stderr",
     "output_type": "stream",
     "text": [
      "                                                                                \r"
     ]
    },
    {
     "name": "stdout",
     "output_type": "stream",
     "text": [
      "No feature data found for snapshot date: 2023-01-01 00:00:00\n",
      "✗ Failed to process 2023-01-01: Failed to load feature data\n",
      "\n",
      "Processing date 2/24: 2023-02-01\n",
      "Running inference for 2023-02-01 using credit_model_xgboost_2024_09_01\n",
      "Model artifact loaded successfully from: models/credit_model_xgboost_2024_09_01.pkl\n",
      "Loading features from: datamart/gold/feature_store/\n",
      "Target snapshot date: 2023-02-01 00:00:00\n"
     ]
    },
    {
     "name": "stderr",
     "output_type": "stream",
     "text": [
      "                                                                                \r"
     ]
    },
    {
     "name": "stdout",
     "output_type": "stream",
     "text": [
      "No feature data found for snapshot date: 2023-02-01 00:00:00\n",
      "✗ Failed to process 2023-02-01: Failed to load feature data\n",
      "\n",
      "Processing date 3/24: 2023-03-01\n",
      "Running inference for 2023-03-01 using credit_model_xgboost_2024_09_01\n",
      "Model artifact loaded successfully from: models/credit_model_xgboost_2024_09_01.pkl\n",
      "Loading features from: datamart/gold/feature_store/\n",
      "Target snapshot date: 2023-03-01 00:00:00\n"
     ]
    },
    {
     "name": "stderr",
     "output_type": "stream",
     "text": [
      "                                                                                \r"
     ]
    },
    {
     "name": "stdout",
     "output_type": "stream",
     "text": [
      "No feature data found for snapshot date: 2023-03-01 00:00:00\n",
      "✗ Failed to process 2023-03-01: Failed to load feature data\n",
      "\n",
      "Processing date 4/24: 2023-04-01\n",
      "Running inference for 2023-04-01 using credit_model_xgboost_2024_09_01\n",
      "Model artifact loaded successfully from: models/credit_model_xgboost_2024_09_01.pkl\n",
      "Loading features from: datamart/gold/feature_store/\n",
      "Target snapshot date: 2023-04-01 00:00:00\n",
      "No feature data found for snapshot date: 2023-04-01 00:00:00\n",
      "✗ Failed to process 2023-04-01: Failed to load feature data\n",
      "\n",
      "Processing date 5/24: 2023-05-01\n",
      "Running inference for 2023-05-01 using credit_model_xgboost_2024_09_01\n",
      "Model artifact loaded successfully from: models/credit_model_xgboost_2024_09_01.pkl\n",
      "Loading features from: datamart/gold/feature_store/\n",
      "Target snapshot date: 2023-05-01 00:00:00\n"
     ]
    },
    {
     "name": "stderr",
     "output_type": "stream",
     "text": [
      "                                                                                \r"
     ]
    },
    {
     "name": "stdout",
     "output_type": "stream",
     "text": [
      "No feature data found for snapshot date: 2023-05-01 00:00:00\n",
      "✗ Failed to process 2023-05-01: Failed to load feature data\n",
      "\n",
      "Processing date 6/24: 2023-06-01\n",
      "Running inference for 2023-06-01 using credit_model_xgboost_2024_09_01\n",
      "Model artifact loaded successfully from: models/credit_model_xgboost_2024_09_01.pkl\n",
      "Loading features from: datamart/gold/feature_store/\n",
      "Target snapshot date: 2023-06-01 00:00:00\n"
     ]
    },
    {
     "name": "stderr",
     "output_type": "stream",
     "text": [
      "                                                                                \r"
     ]
    },
    {
     "name": "stdout",
     "output_type": "stream",
     "text": [
      "No feature data found for snapshot date: 2023-06-01 00:00:00\n",
      "✗ Failed to process 2023-06-01: Failed to load feature data\n",
      "\n",
      "Processing date 7/24: 2023-07-01\n",
      "Running inference for 2023-07-01 using credit_model_xgboost_2024_09_01\n",
      "Model artifact loaded successfully from: models/credit_model_xgboost_2024_09_01.pkl\n",
      "Loading features from: datamart/gold/feature_store/\n",
      "Target snapshot date: 2023-07-01 00:00:00\n"
     ]
    },
    {
     "name": "stderr",
     "output_type": "stream",
     "text": [
      "                                                                                \r"
     ]
    },
    {
     "name": "stdout",
     "output_type": "stream",
     "text": [
      "Feature data loaded: 8974 records\n",
      "Preparing features for inference...\n",
      "Using preprocessor: XGBoostPreprocessor\n",
      "Expected features: 135\n",
      "Raw features shape: (8974, 135)\n",
      "Processed features shape: (8974, 135)\n",
      "Preprocessing completed successfully\n",
      "Generating model predictions...\n",
      "Using model type: xgboost\n",
      "Inference samples: 8974\n",
      "Predictions generated successfully\n",
      "Prediction range: [0.0034, 0.9936]\n",
      "Binary predictions distribution: [7098 1876]\n",
      "Predictions saved to: datamart/gold/model_predictions/credit_model_xgboost_2024_09_01/credit_model_xgboost_2024_09_01_predictions_2023_07_01.parquet\n",
      "Records saved: 8974\n",
      "✓ Successfully processed 2023-07-01\n",
      "\n",
      "Processing date 8/24: 2023-08-01\n",
      "Running inference for 2023-08-01 using credit_model_xgboost_2024_09_01\n",
      "Model artifact loaded successfully from: models/credit_model_xgboost_2024_09_01.pkl\n",
      "Loading features from: datamart/gold/feature_store/\n",
      "Target snapshot date: 2023-08-01 00:00:00\n"
     ]
    },
    {
     "name": "stderr",
     "output_type": "stream",
     "text": [
      "                                                                                \r"
     ]
    },
    {
     "name": "stdout",
     "output_type": "stream",
     "text": [
      "Feature data loaded: 8974 records\n",
      "Preparing features for inference...\n",
      "Using preprocessor: XGBoostPreprocessor\n",
      "Expected features: 135\n",
      "Raw features shape: (8974, 135)\n",
      "Processed features shape: (8974, 135)\n",
      "Preprocessing completed successfully\n",
      "Generating model predictions...\n",
      "Using model type: xgboost\n",
      "Inference samples: 8974\n",
      "Predictions generated successfully\n",
      "Prediction range: [0.0024, 0.9943]\n",
      "Binary predictions distribution: [6984 1990]\n",
      "Predictions saved to: datamart/gold/model_predictions/credit_model_xgboost_2024_09_01/credit_model_xgboost_2024_09_01_predictions_2023_08_01.parquet\n",
      "Records saved: 8974\n",
      "✓ Successfully processed 2023-08-01\n",
      "\n",
      "Processing date 9/24: 2023-09-01\n",
      "Running inference for 2023-09-01 using credit_model_xgboost_2024_09_01\n",
      "Model artifact loaded successfully from: models/credit_model_xgboost_2024_09_01.pkl\n",
      "Loading features from: datamart/gold/feature_store/\n",
      "Target snapshot date: 2023-09-01 00:00:00\n"
     ]
    },
    {
     "name": "stderr",
     "output_type": "stream",
     "text": [
      "                                                                                \r"
     ]
    },
    {
     "name": "stdout",
     "output_type": "stream",
     "text": [
      "Feature data loaded: 8974 records\n",
      "Preparing features for inference...\n",
      "Using preprocessor: XGBoostPreprocessor\n",
      "Expected features: 135\n",
      "Raw features shape: (8974, 135)\n",
      "Processed features shape: (8974, 135)\n",
      "Preprocessing completed successfully\n",
      "Generating model predictions...\n",
      "Using model type: xgboost\n",
      "Inference samples: 8974\n",
      "Predictions generated successfully\n",
      "Prediction range: [0.0013, 0.9947]\n",
      "Binary predictions distribution: [6942 2032]\n",
      "Predictions saved to: datamart/gold/model_predictions/credit_model_xgboost_2024_09_01/credit_model_xgboost_2024_09_01_predictions_2023_09_01.parquet\n",
      "Records saved: 8974\n",
      "✓ Successfully processed 2023-09-01\n",
      "\n",
      "Processing date 10/24: 2023-10-01\n",
      "Running inference for 2023-10-01 using credit_model_xgboost_2024_09_01\n",
      "Model artifact loaded successfully from: models/credit_model_xgboost_2024_09_01.pkl\n",
      "Loading features from: datamart/gold/feature_store/\n",
      "Target snapshot date: 2023-10-01 00:00:00\n"
     ]
    },
    {
     "name": "stderr",
     "output_type": "stream",
     "text": [
      "                                                                                \r"
     ]
    },
    {
     "name": "stdout",
     "output_type": "stream",
     "text": [
      "Feature data loaded: 8974 records\n",
      "Preparing features for inference...\n",
      "Using preprocessor: XGBoostPreprocessor\n",
      "Expected features: 135\n",
      "Raw features shape: (8974, 135)\n",
      "Processed features shape: (8974, 135)\n",
      "Preprocessing completed successfully\n",
      "Generating model predictions...\n",
      "Using model type: xgboost\n",
      "Inference samples: 8974\n",
      "Predictions generated successfully\n",
      "Prediction range: [0.0015, 0.9938]\n",
      "Binary predictions distribution: [6905 2069]\n",
      "Predictions saved to: datamart/gold/model_predictions/credit_model_xgboost_2024_09_01/credit_model_xgboost_2024_09_01_predictions_2023_10_01.parquet\n",
      "Records saved: 8974\n",
      "✓ Successfully processed 2023-10-01\n",
      "\n",
      "Processing date 11/24: 2023-11-01\n",
      "Running inference for 2023-11-01 using credit_model_xgboost_2024_09_01\n",
      "Model artifact loaded successfully from: models/credit_model_xgboost_2024_09_01.pkl\n",
      "Loading features from: datamart/gold/feature_store/\n",
      "Target snapshot date: 2023-11-01 00:00:00\n"
     ]
    },
    {
     "name": "stderr",
     "output_type": "stream",
     "text": [
      "                                                                                \r"
     ]
    },
    {
     "name": "stdout",
     "output_type": "stream",
     "text": [
      "Feature data loaded: 8974 records\n",
      "Preparing features for inference...\n",
      "Using preprocessor: XGBoostPreprocessor\n",
      "Expected features: 135\n",
      "Raw features shape: (8974, 135)\n",
      "Processed features shape: (8974, 135)\n",
      "Preprocessing completed successfully\n",
      "Generating model predictions...\n",
      "Using model type: xgboost\n",
      "Inference samples: 8974\n",
      "Predictions generated successfully\n",
      "Prediction range: [0.0018, 0.9926]\n",
      "Binary predictions distribution: [6828 2146]\n",
      "Predictions saved to: datamart/gold/model_predictions/credit_model_xgboost_2024_09_01/credit_model_xgboost_2024_09_01_predictions_2023_11_01.parquet\n",
      "Records saved: 8974\n",
      "✓ Successfully processed 2023-11-01\n",
      "\n",
      "Processing date 12/24: 2023-12-01\n",
      "Running inference for 2023-12-01 using credit_model_xgboost_2024_09_01\n",
      "Model artifact loaded successfully from: models/credit_model_xgboost_2024_09_01.pkl\n",
      "Loading features from: datamart/gold/feature_store/\n",
      "Target snapshot date: 2023-12-01 00:00:00\n"
     ]
    },
    {
     "name": "stderr",
     "output_type": "stream",
     "text": [
      "                                                                                \r"
     ]
    },
    {
     "name": "stdout",
     "output_type": "stream",
     "text": [
      "Feature data loaded: 8974 records\n",
      "Preparing features for inference...\n",
      "Using preprocessor: XGBoostPreprocessor\n",
      "Expected features: 135\n",
      "Raw features shape: (8974, 135)\n",
      "Processed features shape: (8974, 135)\n",
      "Preprocessing completed successfully\n",
      "Generating model predictions...\n",
      "Using model type: xgboost\n",
      "Inference samples: 8974\n",
      "Predictions generated successfully\n",
      "Prediction range: [0.0026, 0.9959]\n",
      "Binary predictions distribution: [6779 2195]\n",
      "Predictions saved to: datamart/gold/model_predictions/credit_model_xgboost_2024_09_01/credit_model_xgboost_2024_09_01_predictions_2023_12_01.parquet\n",
      "Records saved: 8974\n",
      "✓ Successfully processed 2023-12-01\n",
      "\n",
      "Processing date 13/24: 2024-01-01\n",
      "Running inference for 2024-01-01 using credit_model_xgboost_2024_09_01\n",
      "Model artifact loaded successfully from: models/credit_model_xgboost_2024_09_01.pkl\n",
      "Loading features from: datamart/gold/feature_store/\n",
      "Target snapshot date: 2024-01-01 00:00:00\n"
     ]
    },
    {
     "name": "stderr",
     "output_type": "stream",
     "text": [
      "                                                                                \r"
     ]
    },
    {
     "name": "stdout",
     "output_type": "stream",
     "text": [
      "Feature data loaded: 8974 records\n",
      "Preparing features for inference...\n",
      "Using preprocessor: XGBoostPreprocessor\n",
      "Expected features: 135\n",
      "Raw features shape: (8974, 135)\n",
      "Processed features shape: (8974, 135)\n",
      "Preprocessing completed successfully\n",
      "Generating model predictions...\n",
      "Using model type: xgboost\n",
      "Inference samples: 8974\n",
      "Predictions generated successfully\n",
      "Prediction range: [0.0024, 0.9943]\n",
      "Binary predictions distribution: [6690 2284]\n",
      "Predictions saved to: datamart/gold/model_predictions/credit_model_xgboost_2024_09_01/credit_model_xgboost_2024_09_01_predictions_2024_01_01.parquet\n",
      "Records saved: 8974\n",
      "✓ Successfully processed 2024-01-01\n",
      "\n",
      "Processing date 14/24: 2024-02-01\n",
      "Running inference for 2024-02-01 using credit_model_xgboost_2024_09_01\n",
      "Model artifact loaded successfully from: models/credit_model_xgboost_2024_09_01.pkl\n",
      "Loading features from: datamart/gold/feature_store/\n",
      "Target snapshot date: 2024-02-01 00:00:00\n"
     ]
    },
    {
     "name": "stderr",
     "output_type": "stream",
     "text": [
      "                                                                                \r"
     ]
    },
    {
     "name": "stdout",
     "output_type": "stream",
     "text": [
      "Feature data loaded: 8974 records\n",
      "Preparing features for inference...\n",
      "Using preprocessor: XGBoostPreprocessor\n",
      "Expected features: 135\n",
      "Raw features shape: (8974, 135)\n",
      "Processed features shape: (8974, 135)\n",
      "Preprocessing completed successfully\n",
      "Generating model predictions...\n",
      "Using model type: xgboost\n",
      "Inference samples: 8974\n",
      "Predictions generated successfully\n",
      "Prediction range: [0.0017, 0.9930]\n",
      "Binary predictions distribution: [6601 2373]\n"
     ]
    },
    {
     "name": "stderr",
     "output_type": "stream",
     "text": [
      "                                                                                \r"
     ]
    },
    {
     "name": "stdout",
     "output_type": "stream",
     "text": [
      "Predictions saved to: datamart/gold/model_predictions/credit_model_xgboost_2024_09_01/credit_model_xgboost_2024_09_01_predictions_2024_02_01.parquet\n",
      "Records saved: 8974\n",
      "✓ Successfully processed 2024-02-01\n",
      "\n",
      "Processing date 15/24: 2024-03-01\n",
      "Running inference for 2024-03-01 using credit_model_xgboost_2024_09_01\n",
      "Model artifact loaded successfully from: models/credit_model_xgboost_2024_09_01.pkl\n",
      "Loading features from: datamart/gold/feature_store/\n",
      "Target snapshot date: 2024-03-01 00:00:00\n"
     ]
    },
    {
     "name": "stderr",
     "output_type": "stream",
     "text": [
      "                                                                                \r"
     ]
    },
    {
     "name": "stdout",
     "output_type": "stream",
     "text": [
      "Feature data loaded: 8974 records\n",
      "Preparing features for inference...\n",
      "Using preprocessor: XGBoostPreprocessor\n",
      "Expected features: 135\n",
      "Raw features shape: (8974, 135)\n",
      "Processed features shape: (8974, 135)\n",
      "Preprocessing completed successfully\n",
      "Generating model predictions...\n",
      "Using model type: xgboost\n",
      "Inference samples: 8974\n",
      "Predictions generated successfully\n",
      "Prediction range: [0.0025, 0.9954]\n",
      "Binary predictions distribution: [6491 2483]\n",
      "Predictions saved to: datamart/gold/model_predictions/credit_model_xgboost_2024_09_01/credit_model_xgboost_2024_09_01_predictions_2024_03_01.parquet\n",
      "Records saved: 8974\n",
      "✓ Successfully processed 2024-03-01\n",
      "\n",
      "Processing date 16/24: 2024-04-01\n",
      "Running inference for 2024-04-01 using credit_model_xgboost_2024_09_01\n",
      "Model artifact loaded successfully from: models/credit_model_xgboost_2024_09_01.pkl\n",
      "Loading features from: datamart/gold/feature_store/\n",
      "Target snapshot date: 2024-04-01 00:00:00\n"
     ]
    },
    {
     "name": "stderr",
     "output_type": "stream",
     "text": [
      "                                                                                \r"
     ]
    },
    {
     "name": "stdout",
     "output_type": "stream",
     "text": [
      "Feature data loaded: 8974 records\n",
      "Preparing features for inference...\n",
      "Using preprocessor: XGBoostPreprocessor\n",
      "Expected features: 135\n",
      "Raw features shape: (8974, 135)\n",
      "Processed features shape: (8974, 135)\n",
      "Preprocessing completed successfully\n",
      "Generating model predictions...\n",
      "Using model type: xgboost\n",
      "Inference samples: 8974\n",
      "Predictions generated successfully\n",
      "Prediction range: [0.0017, 0.9954]\n",
      "Binary predictions distribution: [6432 2542]\n",
      "Predictions saved to: datamart/gold/model_predictions/credit_model_xgboost_2024_09_01/credit_model_xgboost_2024_09_01_predictions_2024_04_01.parquet\n",
      "Records saved: 8974\n",
      "✓ Successfully processed 2024-04-01\n",
      "\n",
      "Processing date 17/24: 2024-05-01\n",
      "Running inference for 2024-05-01 using credit_model_xgboost_2024_09_01\n",
      "Model artifact loaded successfully from: models/credit_model_xgboost_2024_09_01.pkl\n",
      "Loading features from: datamart/gold/feature_store/\n",
      "Target snapshot date: 2024-05-01 00:00:00\n"
     ]
    },
    {
     "name": "stderr",
     "output_type": "stream",
     "text": [
      "                                                                                \r"
     ]
    },
    {
     "name": "stdout",
     "output_type": "stream",
     "text": [
      "Feature data loaded: 8974 records\n",
      "Preparing features for inference...\n",
      "Using preprocessor: XGBoostPreprocessor\n",
      "Expected features: 135\n",
      "Raw features shape: (8974, 135)\n",
      "Processed features shape: (8974, 135)\n",
      "Preprocessing completed successfully\n",
      "Generating model predictions...\n",
      "Using model type: xgboost\n",
      "Inference samples: 8974\n",
      "Predictions generated successfully\n",
      "Prediction range: [0.0020, 0.9943]\n",
      "Binary predictions distribution: [6373 2601]\n",
      "Predictions saved to: datamart/gold/model_predictions/credit_model_xgboost_2024_09_01/credit_model_xgboost_2024_09_01_predictions_2024_05_01.parquet\n",
      "Records saved: 8974\n",
      "✓ Successfully processed 2024-05-01\n",
      "\n",
      "Processing date 18/24: 2024-06-01\n",
      "Running inference for 2024-06-01 using credit_model_xgboost_2024_09_01\n",
      "Model artifact loaded successfully from: models/credit_model_xgboost_2024_09_01.pkl\n",
      "Loading features from: datamart/gold/feature_store/\n",
      "Target snapshot date: 2024-06-01 00:00:00\n"
     ]
    },
    {
     "name": "stderr",
     "output_type": "stream",
     "text": [
      "                                                                                \r"
     ]
    },
    {
     "name": "stdout",
     "output_type": "stream",
     "text": [
      "Feature data loaded: 8974 records\n",
      "Preparing features for inference...\n",
      "Using preprocessor: XGBoostPreprocessor\n",
      "Expected features: 135\n",
      "Raw features shape: (8974, 135)\n",
      "Processed features shape: (8974, 135)\n",
      "Preprocessing completed successfully\n",
      "Generating model predictions...\n",
      "Using model type: xgboost\n",
      "Inference samples: 8974\n",
      "Predictions generated successfully\n",
      "Prediction range: [0.0025, 0.9931]\n",
      "Binary predictions distribution: [6256 2718]\n",
      "Predictions saved to: datamart/gold/model_predictions/credit_model_xgboost_2024_09_01/credit_model_xgboost_2024_09_01_predictions_2024_06_01.parquet\n",
      "Records saved: 8974\n",
      "✓ Successfully processed 2024-06-01\n",
      "\n",
      "Processing date 19/24: 2024-07-01\n",
      "Running inference for 2024-07-01 using credit_model_xgboost_2024_09_01\n",
      "Model artifact loaded successfully from: models/credit_model_xgboost_2024_09_01.pkl\n",
      "Loading features from: datamart/gold/feature_store/\n",
      "Target snapshot date: 2024-07-01 00:00:00\n"
     ]
    },
    {
     "name": "stderr",
     "output_type": "stream",
     "text": [
      "                                                                                \r"
     ]
    },
    {
     "name": "stdout",
     "output_type": "stream",
     "text": [
      "Feature data loaded: 9479 records\n",
      "Preparing features for inference...\n",
      "Using preprocessor: XGBoostPreprocessor\n",
      "Expected features: 135\n",
      "Raw features shape: (9479, 135)\n",
      "Processed features shape: (9479, 135)\n",
      "Preprocessing completed successfully\n",
      "Generating model predictions...\n",
      "Using model type: xgboost\n",
      "Inference samples: 9479\n",
      "Predictions generated successfully\n",
      "Prediction range: [0.0013, 0.9950]\n",
      "Binary predictions distribution: [6589 2890]\n",
      "Predictions saved to: datamart/gold/model_predictions/credit_model_xgboost_2024_09_01/credit_model_xgboost_2024_09_01_predictions_2024_07_01.parquet\n",
      "Records saved: 9479\n",
      "✓ Successfully processed 2024-07-01\n",
      "\n",
      "Processing date 20/24: 2024-08-01\n",
      "Running inference for 2024-08-01 using credit_model_xgboost_2024_09_01\n",
      "Model artifact loaded successfully from: models/credit_model_xgboost_2024_09_01.pkl\n",
      "Loading features from: datamart/gold/feature_store/\n",
      "Target snapshot date: 2024-08-01 00:00:00\n"
     ]
    },
    {
     "name": "stderr",
     "output_type": "stream",
     "text": [
      "                                                                                \r"
     ]
    },
    {
     "name": "stdout",
     "output_type": "stream",
     "text": [
      "Feature data loaded: 10022 records\n",
      "Preparing features for inference...\n",
      "Using preprocessor: XGBoostPreprocessor\n",
      "Expected features: 135\n",
      "Raw features shape: (10022, 135)\n",
      "Processed features shape: (10022, 135)\n",
      "Preprocessing completed successfully\n",
      "Generating model predictions...\n",
      "Using model type: xgboost\n",
      "Inference samples: 10022\n",
      "Predictions generated successfully\n",
      "Prediction range: [0.0019, 0.9952]\n",
      "Binary predictions distribution: [6877 3145]\n",
      "Predictions saved to: datamart/gold/model_predictions/credit_model_xgboost_2024_09_01/credit_model_xgboost_2024_09_01_predictions_2024_08_01.parquet\n",
      "Records saved: 10022\n",
      "✓ Successfully processed 2024-08-01\n",
      "\n",
      "Processing date 21/24: 2024-09-01\n",
      "Running inference for 2024-09-01 using credit_model_xgboost_2024_09_01\n",
      "Model artifact loaded successfully from: models/credit_model_xgboost_2024_09_01.pkl\n",
      "Loading features from: datamart/gold/feature_store/\n",
      "Target snapshot date: 2024-09-01 00:00:00\n"
     ]
    },
    {
     "name": "stderr",
     "output_type": "stream",
     "text": [
      "                                                                                \r"
     ]
    },
    {
     "name": "stdout",
     "output_type": "stream",
     "text": [
      "Feature data loaded: 10515 records\n",
      "Preparing features for inference...\n",
      "Using preprocessor: XGBoostPreprocessor\n",
      "Expected features: 135\n",
      "Raw features shape: (10515, 135)\n",
      "Processed features shape: (10515, 135)\n",
      "Preprocessing completed successfully\n",
      "Generating model predictions...\n",
      "Using model type: xgboost\n",
      "Inference samples: 10515\n",
      "Predictions generated successfully\n",
      "Prediction range: [0.0018, 0.9955]\n",
      "Binary predictions distribution: [7129 3386]\n"
     ]
    },
    {
     "name": "stderr",
     "output_type": "stream",
     "text": [
      "                                                                                \r"
     ]
    },
    {
     "name": "stdout",
     "output_type": "stream",
     "text": [
      "Predictions saved to: datamart/gold/model_predictions/credit_model_xgboost_2024_09_01/credit_model_xgboost_2024_09_01_predictions_2024_09_01.parquet\n",
      "Records saved: 10515\n",
      "✓ Successfully processed 2024-09-01\n",
      "\n",
      "Processing date 22/24: 2024-10-01\n",
      "Running inference for 2024-10-01 using credit_model_xgboost_2024_09_01\n",
      "Model artifact loaded successfully from: models/credit_model_xgboost_2024_09_01.pkl\n",
      "Loading features from: datamart/gold/feature_store/\n",
      "Target snapshot date: 2024-10-01 00:00:00\n"
     ]
    },
    {
     "name": "stderr",
     "output_type": "stream",
     "text": [
      "                                                                                \r"
     ]
    },
    {
     "name": "stdout",
     "output_type": "stream",
     "text": [
      "Feature data loaded: 10971 records\n",
      "Preparing features for inference...\n",
      "Using preprocessor: XGBoostPreprocessor\n",
      "Expected features: 135\n",
      "Raw features shape: (10971, 135)\n",
      "Processed features shape: (10971, 135)\n",
      "Preprocessing completed successfully\n",
      "Generating model predictions...\n",
      "Using model type: xgboost\n",
      "Inference samples: 10971\n",
      "Predictions generated successfully\n",
      "Prediction range: [0.0022, 0.9935]\n",
      "Binary predictions distribution: [7353 3618]\n",
      "Predictions saved to: datamart/gold/model_predictions/credit_model_xgboost_2024_09_01/credit_model_xgboost_2024_09_01_predictions_2024_10_01.parquet\n",
      "Records saved: 10971\n",
      "✓ Successfully processed 2024-10-01\n",
      "\n",
      "Processing date 23/24: 2024-11-01\n",
      "Running inference for 2024-11-01 using credit_model_xgboost_2024_09_01\n",
      "Model artifact loaded successfully from: models/credit_model_xgboost_2024_09_01.pkl\n",
      "Loading features from: datamart/gold/feature_store/\n",
      "Target snapshot date: 2024-11-01 00:00:00\n"
     ]
    },
    {
     "name": "stderr",
     "output_type": "stream",
     "text": [
      "                                                                                \r"
     ]
    },
    {
     "name": "stdout",
     "output_type": "stream",
     "text": [
      "Feature data loaded: 11459 records\n",
      "Preparing features for inference...\n",
      "Using preprocessor: XGBoostPreprocessor\n",
      "Expected features: 135\n",
      "Raw features shape: (11459, 135)\n",
      "Processed features shape: (11459, 135)\n",
      "Preprocessing completed successfully\n",
      "Generating model predictions...\n",
      "Using model type: xgboost\n",
      "Inference samples: 11459\n",
      "Predictions generated successfully\n",
      "Prediction range: [0.0023, 0.9935]\n",
      "Binary predictions distribution: [7666 3793]\n",
      "Predictions saved to: datamart/gold/model_predictions/credit_model_xgboost_2024_09_01/credit_model_xgboost_2024_09_01_predictions_2024_11_01.parquet\n",
      "Records saved: 11459\n",
      "✓ Successfully processed 2024-11-01\n",
      "\n",
      "Processing date 24/24: 2024-12-01\n",
      "Running inference for 2024-12-01 using credit_model_xgboost_2024_09_01\n",
      "Model artifact loaded successfully from: models/credit_model_xgboost_2024_09_01.pkl\n",
      "Loading features from: datamart/gold/feature_store/\n",
      "Target snapshot date: 2024-12-01 00:00:00\n"
     ]
    },
    {
     "name": "stderr",
     "output_type": "stream",
     "text": [
      "                                                                                \r"
     ]
    },
    {
     "name": "stdout",
     "output_type": "stream",
     "text": [
      "Feature data loaded: 11974 records\n",
      "Preparing features for inference...\n",
      "Using preprocessor: XGBoostPreprocessor\n",
      "Expected features: 135\n",
      "Raw features shape: (11974, 135)\n",
      "Processed features shape: (11974, 135)\n",
      "Preprocessing completed successfully\n",
      "Generating model predictions...\n",
      "Using model type: xgboost\n",
      "Inference samples: 11974\n",
      "Predictions generated successfully\n",
      "Prediction range: [0.0020, 0.9925]\n",
      "Binary predictions distribution: [7988 3986]\n",
      "Predictions saved to: datamart/gold/model_predictions/credit_model_xgboost_2024_09_01/credit_model_xgboost_2024_09_01_predictions_2024_12_01.parquet\n",
      "Records saved: 11974\n",
      "✓ Successfully processed 2024-12-01\n",
      "Model credit_model_xgboost_2024_09_01 completed:\n",
      "  Successful: 18 dates\n",
      "  Failed: 6 dates\n"
     ]
    },
    {
     "name": "stderr",
     "output_type": "stream",
     "text": [
      "                                                                                \r"
     ]
    }
   ],
   "source": [
    "# Execute batch processing for all models\n",
    "print(f\"\\n{'='*60}\")\n",
    "print(\"EXECUTING BATCH INFERENCE FOR ALL MODELS\")\n",
    "print(f\"{'='*60}\")\n",
    "\n",
    "# Store results for all models\n",
    "all_batch_results = {}\n",
    "\n",
    "for model_version in batch_model_versions:\n",
    "    print(f\"\\nProcessing model: {model_version}\")\n",
    "    print(f\"{'='*40}\")\n",
    "    \n",
    "    batch_results = mi.run_batch_inference(\n",
    "        date_list=batch_dates,\n",
    "        model_version=model_version,\n",
    "        spark=spark,\n",
    "        model_bank_directory=\"models/\",\n",
    "        feature_store_path=\"datamart/gold/feature_store/\",\n",
    "        predictions_output_path=\"datamart/gold/model_predictions/\"\n",
    "    )\n",
    "    \n",
    "    all_batch_results[model_version] = batch_results\n",
    "    \n",
    "    # Summary for this model\n",
    "    successful_results = [result for result in batch_results if result['success']]\n",
    "    failed_results = [result for result in batch_results if not result['success']]\n",
    "    \n",
    "    print(f\"Model {model_version} completed:\")\n",
    "    print(f\"  Successful: {len(successful_results)} dates\")\n",
    "    print(f\"  Failed: {len(failed_results)} dates\")"
   ]
  },
  {
   "cell_type": "code",
   "execution_count": 40,
   "id": "0e2f78a7",
   "metadata": {},
   "outputs": [
    {
     "name": "stdout",
     "output_type": "stream",
     "text": [
      "\n",
      "================================================================================\n",
      "COMPREHENSIVE BATCH PROCESSING SUMMARY\n",
      "================================================================================\n",
      "\n",
      "credit_model_logistic_regression_2024_09_01:\n",
      "  Successful: 18 dates\n",
      "  Failed: 6 dates\n",
      "  Sample error: Failed to load feature data\n",
      "\n",
      "credit_model_random_forest_2024_09_01:\n",
      "  Successful: 18 dates\n",
      "  Failed: 6 dates\n",
      "  Sample error: Failed to load feature data\n",
      "\n",
      "credit_model_xgboost_2024_09_01:\n",
      "  Successful: 18 dates\n",
      "  Failed: 6 dates\n",
      "  Sample error: Failed to load feature data\n",
      "\n",
      "Overall Summary:\n",
      "  Total successful predictions: 54\n",
      "  Total failed predictions: 18\n",
      "  Success rate: 75.0%\n"
     ]
    }
   ],
   "source": [
    "# Summary of all model batch processing\n",
    "print(f\"\\n{'='*80}\")\n",
    "print(\"COMPREHENSIVE BATCH PROCESSING SUMMARY\")\n",
    "print(f\"{'='*80}\")\n",
    "\n",
    "total_successful = 0\n",
    "total_failed = 0\n",
    "\n",
    "for model_version, batch_results in all_batch_results.items():\n",
    "    successful_results = [result for result in batch_results if result['success']]\n",
    "    failed_results = [result for result in batch_results if not result['success']]\n",
    "    \n",
    "    total_successful += len(successful_results)\n",
    "    total_failed += len(failed_results)\n",
    "    \n",
    "    print(f\"\\n{model_version}:\")\n",
    "    print(f\"  Successful: {len(successful_results)} dates\")\n",
    "    print(f\"  Failed: {len(failed_results)} dates\")\n",
    "    \n",
    "    if failed_results:\n",
    "        print(f\"  Sample error: {failed_results[0].get('error', 'Unknown error')}\")\n",
    "\n",
    "print(f\"\\nOverall Summary:\")\n",
    "print(f\"  Total successful predictions: {total_successful}\")\n",
    "print(f\"  Total failed predictions: {total_failed}\")\n",
    "print(f\"  Success rate: {total_successful/(total_successful+total_failed)*100:.1f}%\" if (total_successful+total_failed) > 0 else \"N/A\")"
   ]
  },
  {
   "cell_type": "markdown",
   "id": "8a3d9f29",
   "metadata": {},
   "source": [
    "## Final Datamart Results"
   ]
  },
  {
   "cell_type": "code",
   "execution_count": 41,
   "id": "e47e12ee",
   "metadata": {},
   "outputs": [
    {
     "name": "stdout",
     "output_type": "stream",
     "text": [
      "\n",
      "================================================================================\n",
      "DATAMART VERIFICATION\n",
      "================================================================================\n",
      "\n",
      "Verifying datamart for credit_model_logistic_regression_2024_09_01:\n",
      "==================================================\n",
      "✓ Verification successful\n",
      "  Files: 18\n",
      "  Records: 172,108\n",
      "  Date range: 2023-07-01 to 2024-12-01\n",
      "  Avg predictions/date: 9562\n",
      "\n",
      "Verifying datamart for credit_model_random_forest_2024_09_01:\n",
      "==================================================\n",
      "✓ Verification successful\n",
      "  Files: 18\n",
      "  Records: 172,108\n",
      "  Date range: 2023-07-01 to 2024-12-01\n",
      "  Avg predictions/date: 9562\n",
      "\n",
      "Verifying datamart for credit_model_xgboost_2024_09_01:\n",
      "==================================================\n",
      "✓ Verification successful\n",
      "  Files: 18\n",
      "  Records: 172,108\n",
      "  Date range: 2023-07-01 to 2024-12-01\n",
      "  Avg predictions/date: 9562\n",
      "\n",
      "============================================================\n",
      "OVERALL DATAMART SUMMARY\n",
      "============================================================\n",
      "Models successfully processed: 3/3\n",
      "Total prediction files across all models: 54\n",
      "Total prediction records across all models: 516,324\n",
      "\n",
      "Sample records from best model (XGBoost):\n",
      "  Customer_ID feature_snapshot_date snapshot_date  \\\n",
      "0  CUS_0x61de            2024-07-01    2024-07-01   \n",
      "1  CUS_0x62a4            2024-07-01    2024-07-01   \n",
      "2  CUS_0x62c3            2024-07-01    2024-07-01   \n",
      "3  CUS_0x631d            2024-07-01    2024-07-01   \n",
      "4  CUS_0x6322            2024-07-01    2024-07-01   \n",
      "\n",
      "                     model_version  model_prediction_proba  \\\n",
      "0  credit_model_xgboost_2024_09_01                0.009042   \n",
      "1  credit_model_xgboost_2024_09_01                0.053891   \n",
      "2  credit_model_xgboost_2024_09_01                0.121152   \n",
      "3  credit_model_xgboost_2024_09_01                0.492781   \n",
      "4  credit_model_xgboost_2024_09_01                0.605595   \n",
      "\n",
      "   model_prediction_binary prediction_timestamp  \n",
      "0                        0  2025-06-28 08:45:51  \n",
      "1                        0  2025-06-28 08:45:51  \n",
      "2                        0  2025-06-28 08:45:51  \n",
      "3                        0  2025-06-28 08:45:51  \n",
      "4                        1  2025-06-28 08:45:51  \n"
     ]
    }
   ],
   "source": [
    "print(f\"\\n{'='*80}\")\n",
    "print(\"DATAMART VERIFICATION\")\n",
    "print(f\"{'='*80}\")\n",
    "\n",
    "# Verify predictions for each model in datamart\n",
    "all_datamart_summaries = {}\n",
    "\n",
    "for model_version in batch_model_versions:\n",
    "    print(f\"\\nVerifying datamart for {model_version}:\")\n",
    "    print(f\"{'='*50}\")\n",
    "    \n",
    "    datamart_summary = mi.verify_predictions_datamart(\n",
    "        model_version=model_version,\n",
    "        predictions_output_path=\"datamart/gold/model_predictions/\",\n",
    "        spark=spark\n",
    "    )\n",
    "    \n",
    "    all_datamart_summaries[model_version] = datamart_summary\n",
    "    \n",
    "    if datamart_summary['success']:\n",
    "        print(f\"✓ Verification successful\")\n",
    "        print(f\"  Files: {datamart_summary['total_files']}\")\n",
    "        print(f\"  Records: {datamart_summary['total_records']:,}\")\n",
    "        print(f\"  Date range: {datamart_summary['date_range']['min']} to {datamart_summary['date_range']['max']}\")\n",
    "        print(f\"  Avg predictions/date: {datamart_summary['avg_records_per_date']:.0f}\")\n",
    "    else:\n",
    "        print(f\"✗ Verification failed: {datamart_summary.get('error', 'Unknown error')}\")\n",
    "\n",
    "# Overall datamart summary\n",
    "print(f\"\\n{'='*60}\")\n",
    "print(\"OVERALL DATAMART SUMMARY\")\n",
    "print(f\"{'='*60}\")\n",
    "\n",
    "total_files = sum([summary['total_files'] for summary in all_datamart_summaries.values() if summary['success']])\n",
    "total_records = sum([summary['total_records'] for summary in all_datamart_summaries.values() if summary['success']])\n",
    "successful_models = len([summary for summary in all_datamart_summaries.values() if summary['success']])\n",
    "\n",
    "print(f\"Models successfully processed: {successful_models}/{len(batch_model_versions)}\")\n",
    "print(f\"Total prediction files across all models: {total_files}\")\n",
    "print(f\"Total prediction records across all models: {total_records:,}\")\n",
    "\n",
    "# Show sample from the best model (XGBoost)\n",
    "if 'credit_model_xgboost_2024_09_01' in all_datamart_summaries:\n",
    "    xgb_summary = all_datamart_summaries['credit_model_xgboost_2024_09_01']\n",
    "    if xgb_summary['success']:\n",
    "        print(f\"\\nSample records from best model (XGBoost):\")\n",
    "        print(xgb_summary['sample_data'])"
   ]
  },
  {
   "cell_type": "markdown",
   "id": "24b878c4",
   "metadata": {},
   "source": [
    "## Session Cleanup"
   ]
  },
  {
   "cell_type": "code",
   "execution_count": 42,
   "id": "62f021f1",
   "metadata": {},
   "outputs": [
    {
     "name": "stdout",
     "output_type": "stream",
     "text": [
      "\n",
      "Spark session terminated\n",
      "Model inference pipeline execution complete!\n"
     ]
    }
   ],
   "source": [
    "# Clean up Spark session\n",
    "spark.stop()\n",
    "print(f\"\\nSpark session terminated\")\n",
    "print(\"Model inference pipeline execution complete!\")"
   ]
  }
 ],
 "metadata": {
  "kernelspec": {
   "display_name": "Python 3",
   "language": "python",
   "name": "python3"
  },
  "language_info": {
   "codemirror_mode": {
    "name": "ipython",
    "version": 3
   },
   "file_extension": ".py",
   "mimetype": "text/x-python",
   "name": "python",
   "nbconvert_exporter": "python",
   "pygments_lexer": "ipython3",
   "version": "3.11.2"
  }
 },
 "nbformat": 4,
 "nbformat_minor": 5
}
